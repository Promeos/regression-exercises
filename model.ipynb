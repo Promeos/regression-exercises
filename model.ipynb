{
 "cells": [
  {
   "cell_type": "markdown",
   "metadata": {},
   "source": [
    "# Regression Lecture\n",
    "\n",
    "- Ordinary Least Squares hyperparameter: Normalize=True\n",
    "- LASSO + LARS performs feature selection and noise reduction.\n",
    "   - alpha=0 is similar to running linear regression.\n",
    "   - Higher alpha is more robust to collinearity between features.\n",
    "- Polynomial Regression: Each feature is a polynomial\n",
    "    - Use PolynomialFeatures to create features to be used in Polynomial Regression"
   ]
  },
  {
   "cell_type": "code",
   "execution_count": 53,
   "metadata": {},
   "outputs": [],
   "source": [
    "import numpy as np\n",
    "import pandas as pd\n",
    "import matplotlib.pyplot as plt\n",
    "import seaborn as sns\n",
    "\n",
    "from math import sqrt\n",
    "from statsmodels.formula.api import ols\n",
    "from sklearn.model_selection import train_test_split\n",
    "from sklearn.metrics import mean_squared_error, explained_variance_score\n",
    "from sklearn.linear_model import LinearRegression, LassoLars, TweedieRegressor\n",
    "from sklearn.preprocessing import PolynomialFeatures\n",
    "\n",
    "from sklearn.feature_selection import RFE\n",
    "from wrangle import wrangle_grades, split_data\n",
    "\n",
    "import warnings\n",
    "warnings.filterwarnings(\"ignore\")"
   ]
  },
  {
   "cell_type": "code",
   "execution_count": 54,
   "metadata": {},
   "outputs": [],
   "source": [
    "df = pd.read_csv('./data/student_grades.csv')"
   ]
  },
  {
   "cell_type": "code",
   "execution_count": 55,
   "metadata": {},
   "outputs": [
    {
     "data": {
      "text/html": [
       "<div>\n",
       "<style scoped>\n",
       "    .dataframe tbody tr th:only-of-type {\n",
       "        vertical-align: middle;\n",
       "    }\n",
       "\n",
       "    .dataframe tbody tr th {\n",
       "        vertical-align: top;\n",
       "    }\n",
       "\n",
       "    .dataframe thead th {\n",
       "        text-align: right;\n",
       "    }\n",
       "</style>\n",
       "<table border=\"1\" class=\"dataframe\">\n",
       "  <thead>\n",
       "    <tr style=\"text-align: right;\">\n",
       "      <th></th>\n",
       "      <th>student_id</th>\n",
       "      <th>exam1</th>\n",
       "      <th>exam2</th>\n",
       "      <th>exam3</th>\n",
       "      <th>final_grade</th>\n",
       "    </tr>\n",
       "  </thead>\n",
       "  <tbody>\n",
       "    <tr>\n",
       "      <th>0</th>\n",
       "      <td>1</td>\n",
       "      <td>100.0</td>\n",
       "      <td>90</td>\n",
       "      <td>95</td>\n",
       "      <td>96</td>\n",
       "    </tr>\n",
       "    <tr>\n",
       "      <th>1</th>\n",
       "      <td>2</td>\n",
       "      <td>98.0</td>\n",
       "      <td>93</td>\n",
       "      <td>96</td>\n",
       "      <td>95</td>\n",
       "    </tr>\n",
       "    <tr>\n",
       "      <th>2</th>\n",
       "      <td>3</td>\n",
       "      <td>85.0</td>\n",
       "      <td>83</td>\n",
       "      <td>87</td>\n",
       "      <td>87</td>\n",
       "    </tr>\n",
       "    <tr>\n",
       "      <th>3</th>\n",
       "      <td>4</td>\n",
       "      <td>83.0</td>\n",
       "      <td>80</td>\n",
       "      <td>86</td>\n",
       "      <td>85</td>\n",
       "    </tr>\n",
       "    <tr>\n",
       "      <th>4</th>\n",
       "      <td>5</td>\n",
       "      <td>93.0</td>\n",
       "      <td>90</td>\n",
       "      <td>96</td>\n",
       "      <td>97</td>\n",
       "    </tr>\n",
       "    <tr>\n",
       "      <th>...</th>\n",
       "      <td>...</td>\n",
       "      <td>...</td>\n",
       "      <td>...</td>\n",
       "      <td>...</td>\n",
       "      <td>...</td>\n",
       "    </tr>\n",
       "    <tr>\n",
       "      <th>99</th>\n",
       "      <td>100</td>\n",
       "      <td>70.0</td>\n",
       "      <td>65</td>\n",
       "      <td>78</td>\n",
       "      <td>77</td>\n",
       "    </tr>\n",
       "    <tr>\n",
       "      <th>100</th>\n",
       "      <td>101</td>\n",
       "      <td>62.0</td>\n",
       "      <td>70</td>\n",
       "      <td>79</td>\n",
       "      <td>70</td>\n",
       "    </tr>\n",
       "    <tr>\n",
       "      <th>101</th>\n",
       "      <td>102</td>\n",
       "      <td>58.0</td>\n",
       "      <td>65</td>\n",
       "      <td>70</td>\n",
       "      <td>68</td>\n",
       "    </tr>\n",
       "    <tr>\n",
       "      <th>102</th>\n",
       "      <td>103</td>\n",
       "      <td>57.0</td>\n",
       "      <td>65</td>\n",
       "      <td>75</td>\n",
       "      <td>65</td>\n",
       "    </tr>\n",
       "    <tr>\n",
       "      <th>103</th>\n",
       "      <td>104</td>\n",
       "      <td>70.0</td>\n",
       "      <td>75</td>\n",
       "      <td>78</td>\n",
       "      <td>72</td>\n",
       "    </tr>\n",
       "  </tbody>\n",
       "</table>\n",
       "<p>104 rows × 5 columns</p>\n",
       "</div>"
      ],
      "text/plain": [
       "     student_id  exam1  exam2 exam3  final_grade\n",
       "0             1  100.0     90    95           96\n",
       "1             2   98.0     93    96           95\n",
       "2             3   85.0     83    87           87\n",
       "3             4   83.0     80    86           85\n",
       "4             5   93.0     90    96           97\n",
       "..          ...    ...    ...   ...          ...\n",
       "99          100   70.0     65    78           77\n",
       "100         101   62.0     70    79           70\n",
       "101         102   58.0     65    70           68\n",
       "102         103   57.0     65    75           65\n",
       "103         104   70.0     75    78           72\n",
       "\n",
       "[104 rows x 5 columns]"
      ]
     },
     "execution_count": 55,
     "metadata": {},
     "output_type": "execute_result"
    }
   ],
   "source": [
    "df"
   ]
  },
  {
   "cell_type": "markdown",
   "metadata": {},
   "source": [
    "# Model Exercises"
   ]
  },
  {
   "cell_type": "markdown",
   "metadata": {},
   "source": [
    "Use the `students` dataframe to complete the exercises."
   ]
  },
  {
   "cell_type": "code",
   "execution_count": 56,
   "metadata": {},
   "outputs": [],
   "source": [
    "df = wrangle_grades()"
   ]
  },
  {
   "cell_type": "code",
   "execution_count": 57,
   "metadata": {},
   "outputs": [
    {
     "data": {
      "text/html": [
       "<div>\n",
       "<style scoped>\n",
       "    .dataframe tbody tr th:only-of-type {\n",
       "        vertical-align: middle;\n",
       "    }\n",
       "\n",
       "    .dataframe tbody tr th {\n",
       "        vertical-align: top;\n",
       "    }\n",
       "\n",
       "    .dataframe thead th {\n",
       "        text-align: right;\n",
       "    }\n",
       "</style>\n",
       "<table border=\"1\" class=\"dataframe\">\n",
       "  <thead>\n",
       "    <tr style=\"text-align: right;\">\n",
       "      <th></th>\n",
       "      <th>exam1</th>\n",
       "      <th>exam2</th>\n",
       "      <th>exam3</th>\n",
       "      <th>final_grade</th>\n",
       "    </tr>\n",
       "  </thead>\n",
       "  <tbody>\n",
       "    <tr>\n",
       "      <th>0</th>\n",
       "      <td>100</td>\n",
       "      <td>90</td>\n",
       "      <td>95</td>\n",
       "      <td>96</td>\n",
       "    </tr>\n",
       "    <tr>\n",
       "      <th>1</th>\n",
       "      <td>98</td>\n",
       "      <td>93</td>\n",
       "      <td>96</td>\n",
       "      <td>95</td>\n",
       "    </tr>\n",
       "    <tr>\n",
       "      <th>2</th>\n",
       "      <td>85</td>\n",
       "      <td>83</td>\n",
       "      <td>87</td>\n",
       "      <td>87</td>\n",
       "    </tr>\n",
       "    <tr>\n",
       "      <th>3</th>\n",
       "      <td>83</td>\n",
       "      <td>80</td>\n",
       "      <td>86</td>\n",
       "      <td>85</td>\n",
       "    </tr>\n",
       "    <tr>\n",
       "      <th>4</th>\n",
       "      <td>93</td>\n",
       "      <td>90</td>\n",
       "      <td>96</td>\n",
       "      <td>97</td>\n",
       "    </tr>\n",
       "  </tbody>\n",
       "</table>\n",
       "</div>"
      ],
      "text/plain": [
       "   exam1  exam2  exam3  final_grade\n",
       "0    100     90     95           96\n",
       "1     98     93     96           95\n",
       "2     85     83     87           87\n",
       "3     83     80     86           85\n",
       "4     93     90     96           97"
      ]
     },
     "execution_count": 57,
     "metadata": {},
     "output_type": "execute_result"
    }
   ],
   "source": [
    "df.head()"
   ]
  },
  {
   "cell_type": "code",
   "execution_count": 58,
   "metadata": {},
   "outputs": [
    {
     "name": "stdout",
     "output_type": "stream",
     "text": [
      "<class 'pandas.core.frame.DataFrame'>\n",
      "Int64Index: 102 entries, 0 to 103\n",
      "Data columns (total 4 columns):\n",
      " #   Column       Non-Null Count  Dtype\n",
      "---  ------       --------------  -----\n",
      " 0   exam1        102 non-null    int64\n",
      " 1   exam2        102 non-null    int64\n",
      " 2   exam3        102 non-null    int64\n",
      " 3   final_grade  102 non-null    int64\n",
      "dtypes: int64(4)\n",
      "memory usage: 4.0 KB\n"
     ]
    }
   ],
   "source": [
    "df.info()"
   ]
  },
  {
   "cell_type": "markdown",
   "metadata": {},
   "source": [
    "## 1. Split the data into train, validate, and test datasets."
   ]
  },
  {
   "cell_type": "code",
   "execution_count": 59,
   "metadata": {},
   "outputs": [],
   "source": [
    "train, validate, test = split_data(df)\n",
    "\n",
    "X_train = train.drop(columns='final_grade')\n",
    "y_train = train.final_grade"
   ]
  },
  {
   "cell_type": "markdown",
   "metadata": {},
   "source": [
    "Create an empty dataframe to store evalution metrics"
   ]
  },
  {
   "cell_type": "code",
   "execution_count": 60,
   "metadata": {},
   "outputs": [],
   "source": [
    "df_model_evals = pd.DataFrame()\n",
    "\n",
    "df_model_evals['y'] = y_train\n",
    "df_model_evals['baseline'] = y_train.mean()"
   ]
  },
  {
   "cell_type": "markdown",
   "metadata": {},
   "source": [
    "## 2. Create a model that uses `exam1` to predict the `final_grade`."
   ]
  },
  {
   "cell_type": "code",
   "execution_count": 61,
   "metadata": {},
   "outputs": [],
   "source": [
    "ols_model = ols('final_grade ~ exam1', data=train).fit()\n",
    "\n",
    "df_model_evals['yhat'] = ols_model.predict(df.exam1)"
   ]
  },
  {
   "cell_type": "markdown",
   "metadata": {},
   "source": [
    "## 3. Create a model that uses `exam2` to predict the `final_grade`."
   ]
  },
  {
   "cell_type": "code",
   "execution_count": 62,
   "metadata": {},
   "outputs": [],
   "source": [
    "ols_model = ols('final_grade ~ exam2', data=train).fit()\n",
    "\n",
    "df_model_evals['yhat2'] = ols_model.predict(df.exam2)"
   ]
  },
  {
   "cell_type": "markdown",
   "metadata": {},
   "source": [
    "## 4. Compare your models in the following manner:\n",
    "#### 1. Calculate the mean squared error"
   ]
  },
  {
   "cell_type": "code",
   "execution_count": 63,
   "metadata": {},
   "outputs": [],
   "source": [
    "df_model_evals['base_residuals'] = df_model_evals.baseline - df_model_evals.y\n",
    "df_model_evals['residuals1'] = df_model_evals.yhat - df_model_evals.y\n",
    "df_model_evals['residuals2'] = df_model_evals.yhat2 - df_model_evals.y"
   ]
  },
  {
   "cell_type": "code",
   "execution_count": 67,
   "metadata": {},
   "outputs": [
    {
     "name": "stdout",
     "output_type": "stream",
     "text": [
      "Baseline RMSE: 11.06\n",
      "Model 1 RMSE: 1.83\n",
      "Model 2 RMSE: 3.47\n"
     ]
    }
   ],
   "source": [
    "rmseb = sqrt(mean_squared_error(y_train, df_model_evals.baseline))\n",
    "rmse1 = sqrt(mean_squared_error(y_train, df_model_evals.yhat))\n",
    "rmse2 = sqrt(mean_squared_error(y_train, df_model_evals.yhat2))\n",
    "\n",
    "print(f\"Baseline RMSE: {rmseb:.2f}\")\n",
    "print(f\"Model 1 RMSE: {rmse1:.2f}\")\n",
    "print(f\"Model 2 RMSE: {rmse2:.2f}\")"
   ]
  },
  {
   "cell_type": "markdown",
   "metadata": {},
   "source": [
    "#### 2. Visualize the residuals. Create a seperate visualization for each model."
   ]
  },
  {
   "cell_type": "code",
   "execution_count": 68,
   "metadata": {},
   "outputs": [
    {
     "data": {
      "image/png": "[encoded data removed]",
      "text/plain": [
       "<Figure size 432x288 with 1 Axes>"
      ]
     },
     "metadata": {
      "needs_background": "light"
     },
     "output_type": "display_data"
    }
   ],
   "source": [
    "plt.scatter(df_model_evals.y, df_model_evals.base_residuals)\n",
    "plt.title('baseline: actual outcome v. residuals')\n",
    "plt.xlabel('y')\n",
    "plt.ylabel('residuals ($\\\\bar{y} - y)$');"
   ]
  },
  {
   "cell_type": "code",
   "execution_count": 69,
   "metadata": {},
   "outputs": [
    {
     "data": {
      "image/png": "[encoded data removed]",
      "text/plain": [
       "<Figure size 432x288 with 1 Axes>"
      ]
     },
     "metadata": {
      "needs_background": "light"
     },
     "output_type": "display_data"
    }
   ],
   "source": [
    "plt.scatter(df_model_evals.y, df_model_evals.residuals1)\n",
    "plt.title('model 1: actual outcome v. residuals')\n",
    "plt.xlabel('y')\n",
    "plt.ylabel('residuals ($\\hat{y_1} - y)$');"
   ]
  },
  {
   "cell_type": "code",
   "execution_count": 70,
   "metadata": {},
   "outputs": [
    {
     "data": {
      "image/png": "[encoded data removed]",
      "text/plain": [
       "<Figure size 432x288 with 1 Axes>"
      ]
     },
     "metadata": {
      "needs_background": "light"
     },
     "output_type": "display_data"
    }
   ],
   "source": [
    "plt.scatter(df_model_evals.y, df_model_evals.residuals2)\n",
    "plt.title('model 2: actual outcome v. residuals')\n",
    "plt.xlabel('y')\n",
    "plt.ylabel('residuals ($\\hat{y_2} - y)$');"
   ]
  },
  {
   "cell_type": "markdown",
   "metadata": {},
   "source": [
    "#### 3. Visualize the actual vs the predicted values. Create a seperate visualization for each model."
   ]
  },
  {
   "cell_type": "code",
   "execution_count": 71,
   "metadata": {},
   "outputs": [
    {
     "data": {
      "image/png": "[encoded data removed]",
      "text/plain": [
       "<Figure size 432x288 with 1 Axes>"
      ]
     },
     "metadata": {
      "needs_background": "light"
     },
     "output_type": "display_data"
    }
   ],
   "source": [
    "plt.scatter(df_model_evals.y, df_model_evals.baseline)\n",
    "plt.title('baseline: actual outcome v. predicted')\n",
    "plt.xlabel('actual (y)')\n",
    "plt.ylabel('predicted ($\\\\bar{y}$)');"
   ]
  },
  {
   "cell_type": "code",
   "execution_count": 72,
   "metadata": {},
   "outputs": [
    {
     "data": {
      "image/png": "[encoded data removed]",
      "text/plain": [
       "<Figure size 432x288 with 1 Axes>"
      ]
     },
     "metadata": {
      "needs_background": "light"
     },
     "output_type": "display_data"
    }
   ],
   "source": [
    "plt.scatter(df_model_evals.y, df_model_evals.yhat)\n",
    "plt.title('model 1: actual outcome v. predicted')\n",
    "plt.xlabel('actual (y)')\n",
    "plt.ylabel('predicted ($\\hat{y_2}$)');"
   ]
  },
  {
   "cell_type": "code",
   "execution_count": 73,
   "metadata": {},
   "outputs": [
    {
     "data": {
      "image/png": "[encoded data removed]",
      "text/plain": [
       "<Figure size 432x288 with 1 Axes>"
      ]
     },
     "metadata": {
      "needs_background": "light"
     },
     "output_type": "display_data"
    }
   ],
   "source": [
    "plt.scatter(df_model_evals.y, df_model_evals.yhat2)\n",
    "plt.title('model 2: actual outcome v. predicted')\n",
    "plt.xlabel('actual (y)')\n",
    "plt.ylabel('predicted ($\\hat{y_2}$)');"
   ]
  },
  {
   "cell_type": "markdown",
   "metadata": {},
   "source": [
    "### __Bonus__\n",
    "#### Combine the seperate visualizations for each model into a single visualization. Is this visual helpful?"
   ]
  },
  {
   "cell_type": "code",
   "execution_count": 74,
   "metadata": {},
   "outputs": [
    {
     "data": {
      "image/png": "[encoded data removed]",
      "text/plain": [
       "<Figure size 432x288 with 1 Axes>"
      ]
     },
     "metadata": {
      "needs_background": "light"
     },
     "output_type": "display_data"
    }
   ],
   "source": [
    "sns.regplot(df_model_evals.y, df_model_evals.base_residuals, label='Baseline')\n",
    "sns.regplot(df_model_evals.y, df_model_evals.residuals1, label='Model 1')\n",
    "sns.regplot(df_model_evals.y, df_model_evals.residuals2, label='Model 2')\n",
    "plt.title('actual outcome v. residuals')\n",
    "plt.legend()\n",
    "plt.xlabel('actual (y)')\n",
    "plt.ylabel('residuals $(\\hat{y}_1 - y)$');"
   ]
  },
  {
   "cell_type": "code",
   "execution_count": 75,
   "metadata": {},
   "outputs": [
    {
     "data": {
      "image/png": "[encoded data removed]",
      "text/plain": [
       "<Figure size 432x288 with 1 Axes>"
      ]
     },
     "metadata": {
      "needs_background": "light"
     },
     "output_type": "display_data"
    }
   ],
   "source": [
    "sns.regplot(df_model_evals.y, df_model_evals.baseline, label='Baseline')\n",
    "sns.regplot(df_model_evals.y, df_model_evals.yhat, label='Model 1')\n",
    "sns.regplot(df_model_evals.y, df_model_evals.yhat2, label='Model 2')\n",
    "plt.title('actual outcome v. predictions')\n",
    "plt.legend()\n",
    "plt.xlabel('actual (y)')\n",
    "plt.ylabel('predictions ($\\hat{y}$)');"
   ]
  },
  {
   "cell_type": "markdown",
   "metadata": {},
   "source": [
    "## 5. Create a model that uses `exam1` and `exam3` to predict `final_grade`. How does this model compare to your previous ones?"
   ]
  },
  {
   "cell_type": "code",
   "execution_count": 76,
   "metadata": {},
   "outputs": [],
   "source": [
    "ols_model = ols('final_grade ~ exam1 + exam3', data=train).fit()"
   ]
  },
  {
   "cell_type": "code",
   "execution_count": 79,
   "metadata": {},
   "outputs": [],
   "source": [
    "df_model_evals['yhat3'] = ols_model.predict(train[['exam1', 'exam3']])\n",
    "df_model_evals['residuals3'] = df_model_evals.yhat3 - df_model_evals.y\n",
    "rmse3 = sqrt(mean_squared_error(df_model_evals.y, df_model_evals.yhat3))"
   ]
  },
  {
   "cell_type": "code",
   "execution_count": 80,
   "metadata": {},
   "outputs": [
    {
     "name": "stdout",
     "output_type": "stream",
     "text": [
      "Baseline RMSE: 11.06\n",
      "Model 1 RMSE: 1.83\n",
      "Model 2 RMSE: 3.47\n",
      "Model 3 RMSE 1.65\n"
     ]
    }
   ],
   "source": [
    "# Compare RMSE value of all models\n",
    "print(f\"Baseline RMSE: {rmseb:.2f}\")\n",
    "print(f\"Model 1 RMSE: {rmse1:.2f}\")\n",
    "print(f\"Model 2 RMSE: {rmse2:.2f}\")\n",
    "print(f'Model 3 RMSE {rmse3:.2f}')"
   ]
  },
  {
   "cell_type": "code",
   "execution_count": 82,
   "metadata": {},
   "outputs": [
    {
     "name": "stdout",
     "output_type": "stream",
     "text": [
      "Baseline R^2: 0.00%\n",
      "Model 1 R^2: 97.25%\n",
      "Model 2 R^2: 90.13%\n",
      "Model 3 R^2: 97.76%\n"
     ]
    }
   ],
   "source": [
    "# Calculate R^2 value of all models\n",
    "brsquared = explained_variance_score(df_model_evals.y, df_model_evals.baseline)\n",
    "rsquared1 = explained_variance_score(df_model_evals.y, df_model_evals.yhat)\n",
    "rsquared2 = explained_variance_score(df_model_evals.y, df_model_evals.yhat2)\n",
    "rsquared3 = explained_variance_score(df_model_evals.y, df_model_evals.yhat3)\n",
    "\n",
    "# Compare R^2 value of all models\n",
    "print(f\"Baseline R^2: {brsquared:.2%}\")\n",
    "print(f\"Model 1 R^2: {rsquared1:.2%}\")\n",
    "print(f\"Model 2 R^2: {rsquared2:.2%}\")\n",
    "print(f'Model 3 R^2: {rsquared3:.2%}')"
   ]
  },
  {
   "cell_type": "code",
   "execution_count": 83,
   "metadata": {},
   "outputs": [
    {
     "data": {
      "image/png": "[encoded data removed]",
      "text/plain": [
       "<Figure size 432x288 with 1 Axes>"
      ]
     },
     "metadata": {
      "needs_background": "light"
     },
     "output_type": "display_data"
    }
   ],
   "source": [
    "sns.regplot(df_model_evals.y, df_model_evals.yhat, label='Model 1')\n",
    "sns.regplot(df_model_evals.y, df_model_evals.yhat3, label='Model 3')\n",
    "plt.title('actual outcome v. predictions')\n",
    "plt.legend()\n",
    "plt.xlabel('actual (y)')\n",
    "plt.ylabel('predictions ($\\hat{y}$)');"
   ]
  },
  {
   "cell_type": "markdown",
   "metadata": {},
   "source": [
    "## 6. Take your best preforming model and measure its performance on the validate data set. How does the performance differ between train and validate?"
   ]
  },
  {
   "cell_type": "code",
   "execution_count": 84,
   "metadata": {},
   "outputs": [],
   "source": [
    "X_validate = validate.drop(columns='final_grade')\n",
    "y_validate = validate.final_grade\n",
    "X_test = test.drop(columns='final_grade')\n",
    "y_test = test.final_grade"
   ]
  },
  {
   "cell_type": "code",
   "execution_count": 85,
   "metadata": {},
   "outputs": [],
   "source": [
    "validate_pred = ols_model.predict(validate[['exam1', 'exam3']])\n",
    "rmse_validate = sqrt(mean_squared_error(y_validate, validate_pred))\n",
    "rsquared4 = explained_variance_score(y_validate, validate_pred)"
   ]
  },
  {
   "cell_type": "code",
   "execution_count": 86,
   "metadata": {},
   "outputs": [
    {
     "name": "stdout",
     "output_type": "stream",
     "text": [
      "Model 3\n",
      "-------\n",
      "train RMSE 1.65\n",
      "validate RMSE: 1.87\n"
     ]
    }
   ],
   "source": [
    "print(\"Model 3\")\n",
    "print('-' * 7)\n",
    "print(f\"train RMSE {mse3:.2f}\")\n",
    "print(f\"validate RMSE: {rmse_validate:.2f}\")"
   ]
  },
  {
   "cell_type": "code",
   "execution_count": 87,
   "metadata": {},
   "outputs": [
    {
     "name": "stdout",
     "output_type": "stream",
     "text": [
      "Model 3\n",
      "-------\n",
      "train R^2: 97.76%\n",
      "validate R^2: 97.01%\n"
     ]
    }
   ],
   "source": [
    "print(\"Model 3\")\n",
    "print('-' * 7)\n",
    "print(f\"train R^2: {rsquared3:.2%}\")\n",
    "print(f\"validate R^2: {rsquared4:.2%}\")"
   ]
  },
  {
   "cell_type": "markdown",
   "metadata": {},
   "source": [
    "## 7. Make a 4th model with a slight difference like one more/less feature or a single hyperparameter that's different to see if you can beat that the last model's performance on validate."
   ]
  },
  {
   "cell_type": "code",
   "execution_count": 88,
   "metadata": {},
   "outputs": [],
   "source": [
    "PolynomialFeatures()"
   ]
  },
  {
   "cell_type": "markdown",
   "metadata": {},
   "source": [
    "## 8. Tune your models using validate to improve performance. Select the model w/ the best performance and evaluate that one on test, to get a more clear understanding of how it will perform on out-of-sample data."
   ]
  },
  {
   "cell_type": "code",
   "execution_count": null,
   "metadata": {},
   "outputs": [],
   "source": []
  }
 ],
 "metadata": {
  "kernelspec": {
   "display_name": "Python 3",
   "language": "python",
   "name": "python3"
  },
  "language_info": {
   "codemirror_mode": {
    "name": "ipython",
    "version": 3
   },
   "file_extension": ".py",
   "mimetype": "text/x-python",
   "name": "python",
   "nbconvert_exporter": "python",
   "pygments_lexer": "ipython3",
   "version": "3.7.6"
  }
 },
 "nbformat": 4,
 "nbformat_minor": 4
}
