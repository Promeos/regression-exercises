{
 "cells": [
  {
   "cell_type": "markdown",
   "metadata": {},
   "source": [
    "# Evaluate Exercises  "
   ]
  },
  {
   "cell_type": "code",
   "execution_count": 1,
   "metadata": {},
   "outputs": [],
   "source": [
    "import numpy as np\n",
    "import pandas as pd\n",
    "import matplotlib.pyplot as plt\n",
    "import seaborn as sns\n",
    "\n",
    "from math import sqrt\n",
    "from pydataset import data\n",
    "from statsmodels.formula.api import ols\n",
    "from sklearn.metrics import mean_squared_error"
   ]
  },
  {
   "cell_type": "markdown",
   "metadata": {},
   "source": [
    "## Evaluating simple linear regressions on lemonade data with other features:"
   ]
  },
  {
   "cell_type": "code",
   "execution_count": 2,
   "metadata": {},
   "outputs": [],
   "source": [
    "df_lemonade = pd.read_csv('lemonade.csv')"
   ]
  },
  {
   "cell_type": "code",
   "execution_count": 3,
   "metadata": {},
   "outputs": [
    {
     "data": {
      "text/html": [
       "<div>\n",
       "<style scoped>\n",
       "    .dataframe tbody tr th:only-of-type {\n",
       "        vertical-align: middle;\n",
       "    }\n",
       "\n",
       "    .dataframe tbody tr th {\n",
       "        vertical-align: top;\n",
       "    }\n",
       "\n",
       "    .dataframe thead th {\n",
       "        text-align: right;\n",
       "    }\n",
       "</style>\n",
       "<table border=\"1\" class=\"dataframe\">\n",
       "  <thead>\n",
       "    <tr style=\"text-align: right;\">\n",
       "      <th></th>\n",
       "      <th>Date</th>\n",
       "      <th>Day</th>\n",
       "      <th>Temperature</th>\n",
       "      <th>Rainfall</th>\n",
       "      <th>Flyers</th>\n",
       "      <th>Price</th>\n",
       "      <th>Sales</th>\n",
       "    </tr>\n",
       "  </thead>\n",
       "  <tbody>\n",
       "    <tr>\n",
       "      <th>0</th>\n",
       "      <td>1/1/17</td>\n",
       "      <td>Sunday</td>\n",
       "      <td>27.0</td>\n",
       "      <td>2.00</td>\n",
       "      <td>15</td>\n",
       "      <td>0.5</td>\n",
       "      <td>10</td>\n",
       "    </tr>\n",
       "    <tr>\n",
       "      <th>1</th>\n",
       "      <td>1/2/17</td>\n",
       "      <td>Monday</td>\n",
       "      <td>28.9</td>\n",
       "      <td>1.33</td>\n",
       "      <td>15</td>\n",
       "      <td>0.5</td>\n",
       "      <td>13</td>\n",
       "    </tr>\n",
       "    <tr>\n",
       "      <th>2</th>\n",
       "      <td>1/3/17</td>\n",
       "      <td>Tuesday</td>\n",
       "      <td>34.5</td>\n",
       "      <td>1.33</td>\n",
       "      <td>27</td>\n",
       "      <td>0.5</td>\n",
       "      <td>15</td>\n",
       "    </tr>\n",
       "    <tr>\n",
       "      <th>3</th>\n",
       "      <td>1/4/17</td>\n",
       "      <td>Wednesday</td>\n",
       "      <td>44.1</td>\n",
       "      <td>1.05</td>\n",
       "      <td>28</td>\n",
       "      <td>0.5</td>\n",
       "      <td>17</td>\n",
       "    </tr>\n",
       "    <tr>\n",
       "      <th>4</th>\n",
       "      <td>1/5/17</td>\n",
       "      <td>Thursday</td>\n",
       "      <td>42.4</td>\n",
       "      <td>1.00</td>\n",
       "      <td>33</td>\n",
       "      <td>0.5</td>\n",
       "      <td>18</td>\n",
       "    </tr>\n",
       "  </tbody>\n",
       "</table>\n",
       "</div>"
      ],
      "text/plain": [
       "     Date        Day  Temperature  Rainfall  Flyers  Price  Sales\n",
       "0  1/1/17     Sunday         27.0      2.00      15    0.5     10\n",
       "1  1/2/17     Monday         28.9      1.33      15    0.5     13\n",
       "2  1/3/17    Tuesday         34.5      1.33      27    0.5     15\n",
       "3  1/4/17  Wednesday         44.1      1.05      28    0.5     17\n",
       "4  1/5/17   Thursday         42.4      1.00      33    0.5     18"
      ]
     },
     "execution_count": 3,
     "metadata": {},
     "output_type": "execute_result"
    }
   ],
   "source": [
    "df_lemonade.head()"
   ]
  },
  {
   "cell_type": "markdown",
   "metadata": {},
   "source": [
    "### 1.\n",
    "Make a baseline for predicting sales. (The mean is a good baseline)"
   ]
  },
  {
   "cell_type": "code",
   "execution_count": 4,
   "metadata": {},
   "outputs": [],
   "source": [
    "df_lemonade['baseline'] = df_lemonade.Sales.mean()"
   ]
  },
  {
   "cell_type": "code",
   "execution_count": 5,
   "metadata": {},
   "outputs": [
    {
     "data": {
      "text/html": [
       "<div>\n",
       "<style scoped>\n",
       "    .dataframe tbody tr th:only-of-type {\n",
       "        vertical-align: middle;\n",
       "    }\n",
       "\n",
       "    .dataframe tbody tr th {\n",
       "        vertical-align: top;\n",
       "    }\n",
       "\n",
       "    .dataframe thead th {\n",
       "        text-align: right;\n",
       "    }\n",
       "</style>\n",
       "<table border=\"1\" class=\"dataframe\">\n",
       "  <thead>\n",
       "    <tr style=\"text-align: right;\">\n",
       "      <th></th>\n",
       "      <th>Date</th>\n",
       "      <th>Day</th>\n",
       "      <th>Temperature</th>\n",
       "      <th>Rainfall</th>\n",
       "      <th>Flyers</th>\n",
       "      <th>Price</th>\n",
       "      <th>Sales</th>\n",
       "      <th>baseline</th>\n",
       "    </tr>\n",
       "  </thead>\n",
       "  <tbody>\n",
       "    <tr>\n",
       "      <th>0</th>\n",
       "      <td>1/1/17</td>\n",
       "      <td>Sunday</td>\n",
       "      <td>27.0</td>\n",
       "      <td>2.00</td>\n",
       "      <td>15</td>\n",
       "      <td>0.5</td>\n",
       "      <td>10</td>\n",
       "      <td>25.323288</td>\n",
       "    </tr>\n",
       "    <tr>\n",
       "      <th>1</th>\n",
       "      <td>1/2/17</td>\n",
       "      <td>Monday</td>\n",
       "      <td>28.9</td>\n",
       "      <td>1.33</td>\n",
       "      <td>15</td>\n",
       "      <td>0.5</td>\n",
       "      <td>13</td>\n",
       "      <td>25.323288</td>\n",
       "    </tr>\n",
       "    <tr>\n",
       "      <th>2</th>\n",
       "      <td>1/3/17</td>\n",
       "      <td>Tuesday</td>\n",
       "      <td>34.5</td>\n",
       "      <td>1.33</td>\n",
       "      <td>27</td>\n",
       "      <td>0.5</td>\n",
       "      <td>15</td>\n",
       "      <td>25.323288</td>\n",
       "    </tr>\n",
       "    <tr>\n",
       "      <th>3</th>\n",
       "      <td>1/4/17</td>\n",
       "      <td>Wednesday</td>\n",
       "      <td>44.1</td>\n",
       "      <td>1.05</td>\n",
       "      <td>28</td>\n",
       "      <td>0.5</td>\n",
       "      <td>17</td>\n",
       "      <td>25.323288</td>\n",
       "    </tr>\n",
       "    <tr>\n",
       "      <th>4</th>\n",
       "      <td>1/5/17</td>\n",
       "      <td>Thursday</td>\n",
       "      <td>42.4</td>\n",
       "      <td>1.00</td>\n",
       "      <td>33</td>\n",
       "      <td>0.5</td>\n",
       "      <td>18</td>\n",
       "      <td>25.323288</td>\n",
       "    </tr>\n",
       "  </tbody>\n",
       "</table>\n",
       "</div>"
      ],
      "text/plain": [
       "     Date        Day  Temperature  Rainfall  Flyers  Price  Sales   baseline\n",
       "0  1/1/17     Sunday         27.0      2.00      15    0.5     10  25.323288\n",
       "1  1/2/17     Monday         28.9      1.33      15    0.5     13  25.323288\n",
       "2  1/3/17    Tuesday         34.5      1.33      27    0.5     15  25.323288\n",
       "3  1/4/17  Wednesday         44.1      1.05      28    0.5     17  25.323288\n",
       "4  1/5/17   Thursday         42.4      1.00      33    0.5     18  25.323288"
      ]
     },
     "execution_count": 5,
     "metadata": {},
     "output_type": "execute_result"
    }
   ],
   "source": [
    "df_lemonade.head()"
   ]
  },
  {
   "cell_type": "markdown",
   "metadata": {},
   "source": [
    "### 2.\n",
    "Create a new dataframe to hold residuals."
   ]
  },
  {
   "cell_type": "code",
   "execution_count": 18,
   "metadata": {},
   "outputs": [],
   "source": [
    "x = df_lemonade.Temperature\n",
    "y = df_lemonade.Sales\n",
    "\n",
    "residuals = pd.DataFrame({'x': x,\n",
    "                          'y': y})"
   ]
  },
  {
   "cell_type": "markdown",
   "metadata": {},
   "source": [
    "### 3.\n",
    "Calculate the baseline residuals."
   ]
  },
  {
   "cell_type": "code",
   "execution_count": 19,
   "metadata": {},
   "outputs": [],
   "source": [
    "residuals['baseline_residual'] = df_lemonade.baseline - df_lemonade.Sales"
   ]
  },
  {
   "cell_type": "markdown",
   "metadata": {},
   "source": [
    "### 4.\n",
    "Use `ols` from `statsmodels` to create a simple linear regression (1 independent variable, 1 dependent variable) to _predict sales using flyers_."
   ]
  },
  {
   "cell_type": "code",
   "execution_count": 20,
   "metadata": {},
   "outputs": [
    {
     "data": {
      "text/html": [
       "<div>\n",
       "<style scoped>\n",
       "    .dataframe tbody tr th:only-of-type {\n",
       "        vertical-align: middle;\n",
       "    }\n",
       "\n",
       "    .dataframe tbody tr th {\n",
       "        vertical-align: top;\n",
       "    }\n",
       "\n",
       "    .dataframe thead th {\n",
       "        text-align: right;\n",
       "    }\n",
       "</style>\n",
       "<table border=\"1\" class=\"dataframe\">\n",
       "  <thead>\n",
       "    <tr style=\"text-align: right;\">\n",
       "      <th></th>\n",
       "      <th>Date</th>\n",
       "      <th>Day</th>\n",
       "      <th>Temperature</th>\n",
       "      <th>Rainfall</th>\n",
       "      <th>Flyers</th>\n",
       "      <th>Price</th>\n",
       "      <th>Sales</th>\n",
       "      <th>baseline</th>\n",
       "      <th>log_rainfall</th>\n",
       "    </tr>\n",
       "  </thead>\n",
       "  <tbody>\n",
       "    <tr>\n",
       "      <th>0</th>\n",
       "      <td>1/1/17</td>\n",
       "      <td>Sunday</td>\n",
       "      <td>27.0</td>\n",
       "      <td>2.00</td>\n",
       "      <td>15</td>\n",
       "      <td>0.5</td>\n",
       "      <td>10</td>\n",
       "      <td>25.323288</td>\n",
       "      <td>0.693147</td>\n",
       "    </tr>\n",
       "    <tr>\n",
       "      <th>1</th>\n",
       "      <td>1/2/17</td>\n",
       "      <td>Monday</td>\n",
       "      <td>28.9</td>\n",
       "      <td>1.33</td>\n",
       "      <td>15</td>\n",
       "      <td>0.5</td>\n",
       "      <td>13</td>\n",
       "      <td>25.323288</td>\n",
       "      <td>0.285179</td>\n",
       "    </tr>\n",
       "    <tr>\n",
       "      <th>2</th>\n",
       "      <td>1/3/17</td>\n",
       "      <td>Tuesday</td>\n",
       "      <td>34.5</td>\n",
       "      <td>1.33</td>\n",
       "      <td>27</td>\n",
       "      <td>0.5</td>\n",
       "      <td>15</td>\n",
       "      <td>25.323288</td>\n",
       "      <td>0.285179</td>\n",
       "    </tr>\n",
       "    <tr>\n",
       "      <th>3</th>\n",
       "      <td>1/4/17</td>\n",
       "      <td>Wednesday</td>\n",
       "      <td>44.1</td>\n",
       "      <td>1.05</td>\n",
       "      <td>28</td>\n",
       "      <td>0.5</td>\n",
       "      <td>17</td>\n",
       "      <td>25.323288</td>\n",
       "      <td>0.048790</td>\n",
       "    </tr>\n",
       "    <tr>\n",
       "      <th>4</th>\n",
       "      <td>1/5/17</td>\n",
       "      <td>Thursday</td>\n",
       "      <td>42.4</td>\n",
       "      <td>1.00</td>\n",
       "      <td>33</td>\n",
       "      <td>0.5</td>\n",
       "      <td>18</td>\n",
       "      <td>25.323288</td>\n",
       "      <td>0.000000</td>\n",
       "    </tr>\n",
       "  </tbody>\n",
       "</table>\n",
       "</div>"
      ],
      "text/plain": [
       "     Date        Day  Temperature  Rainfall  Flyers  Price  Sales   baseline  \\\n",
       "0  1/1/17     Sunday         27.0      2.00      15    0.5     10  25.323288   \n",
       "1  1/2/17     Monday         28.9      1.33      15    0.5     13  25.323288   \n",
       "2  1/3/17    Tuesday         34.5      1.33      27    0.5     15  25.323288   \n",
       "3  1/4/17  Wednesday         44.1      1.05      28    0.5     17  25.323288   \n",
       "4  1/5/17   Thursday         42.4      1.00      33    0.5     18  25.323288   \n",
       "\n",
       "   log_rainfall  \n",
       "0      0.693147  \n",
       "1      0.285179  \n",
       "2      0.285179  \n",
       "3      0.048790  \n",
       "4      0.000000  "
      ]
     },
     "execution_count": 20,
     "metadata": {},
     "output_type": "execute_result"
    }
   ],
   "source": [
    "df_lemonade.head()"
   ]
  },
  {
   "cell_type": "code",
   "execution_count": 21,
   "metadata": {},
   "outputs": [],
   "source": [
    "ols_model = ols('Sales ~ Temperature', data=df_lemonade).fit()"
   ]
  },
  {
   "cell_type": "markdown",
   "metadata": {},
   "source": [
    "### 1.\n",
    "Use the `.predict` method from ols to produce all of our predictions. Add these predictions to the data."
   ]
  },
  {
   "cell_type": "code",
   "execution_count": 22,
   "metadata": {},
   "outputs": [],
   "source": [
    "residuals['yhat'] = ols_model.predict(df_lemonade.Temperature)"
   ]
  },
  {
   "cell_type": "markdown",
   "metadata": {},
   "source": [
    "### 2. \n",
    "Calculate that model's residuals."
   ]
  },
  {
   "cell_type": "code",
   "execution_count": 23,
   "metadata": {},
   "outputs": [],
   "source": [
    "residuals['ols_model_residuals'] = residuals.yhat - residuals.y"
   ]
  },
  {
   "cell_type": "code",
   "execution_count": 24,
   "metadata": {},
   "outputs": [
    {
     "data": {
      "text/html": [
       "<div>\n",
       "<style scoped>\n",
       "    .dataframe tbody tr th:only-of-type {\n",
       "        vertical-align: middle;\n",
       "    }\n",
       "\n",
       "    .dataframe tbody tr th {\n",
       "        vertical-align: top;\n",
       "    }\n",
       "\n",
       "    .dataframe thead th {\n",
       "        text-align: right;\n",
       "    }\n",
       "</style>\n",
       "<table border=\"1\" class=\"dataframe\">\n",
       "  <thead>\n",
       "    <tr style=\"text-align: right;\">\n",
       "      <th></th>\n",
       "      <th>x</th>\n",
       "      <th>y</th>\n",
       "      <th>baseline_residual</th>\n",
       "      <th>yhat</th>\n",
       "      <th>ols_model_residuals</th>\n",
       "    </tr>\n",
       "  </thead>\n",
       "  <tbody>\n",
       "    <tr>\n",
       "      <th>0</th>\n",
       "      <td>27.0</td>\n",
       "      <td>10</td>\n",
       "      <td>15.323288</td>\n",
       "      <td>11.112301</td>\n",
       "      <td>1.112301</td>\n",
       "    </tr>\n",
       "    <tr>\n",
       "      <th>1</th>\n",
       "      <td>28.9</td>\n",
       "      <td>13</td>\n",
       "      <td>12.323288</td>\n",
       "      <td>11.912772</td>\n",
       "      <td>-1.087228</td>\n",
       "    </tr>\n",
       "    <tr>\n",
       "      <th>2</th>\n",
       "      <td>34.5</td>\n",
       "      <td>15</td>\n",
       "      <td>10.323288</td>\n",
       "      <td>14.272055</td>\n",
       "      <td>-0.727945</td>\n",
       "    </tr>\n",
       "    <tr>\n",
       "      <th>3</th>\n",
       "      <td>44.1</td>\n",
       "      <td>17</td>\n",
       "      <td>8.323288</td>\n",
       "      <td>18.316540</td>\n",
       "      <td>1.316540</td>\n",
       "    </tr>\n",
       "    <tr>\n",
       "      <th>4</th>\n",
       "      <td>42.4</td>\n",
       "      <td>18</td>\n",
       "      <td>7.323288</td>\n",
       "      <td>17.600329</td>\n",
       "      <td>-0.399671</td>\n",
       "    </tr>\n",
       "  </tbody>\n",
       "</table>\n",
       "</div>"
      ],
      "text/plain": [
       "      x   y  baseline_residual       yhat  ols_model_residuals\n",
       "0  27.0  10          15.323288  11.112301             1.112301\n",
       "1  28.9  13          12.323288  11.912772            -1.087228\n",
       "2  34.5  15          10.323288  14.272055            -0.727945\n",
       "3  44.1  17           8.323288  18.316540             1.316540\n",
       "4  42.4  18           7.323288  17.600329            -0.399671"
      ]
     },
     "execution_count": 24,
     "metadata": {},
     "output_type": "execute_result"
    }
   ],
   "source": [
    "residuals.head()"
   ]
  },
  {
   "cell_type": "markdown",
   "metadata": {},
   "source": [
    "### 3.\n",
    "Evaluate that model's performance and answer if the model is significant."
   ]
  },
  {
   "cell_type": "code",
   "execution_count": 25,
   "metadata": {},
   "outputs": [
    {
     "name": "stdout",
     "output_type": "stream",
     "text": [
      "R-squared of OLS Model 1 is: 97.98%\n"
     ]
    }
   ],
   "source": [
    "r2 = ols_model.rsquared\n",
    "print(f\"R-squared of OLS Model 1 is: {r2:.2%}\")"
   ]
  },
  {
   "cell_type": "markdown",
   "metadata": {},
   "source": [
    "### 4.\n",
    "Evaluate that model's performance and answer if the feature is significant.\n",
    "\n",
    "`Updated with clarification from Maggie! :)` \n",
    "\n",
    "<div class='alert alert-box alert-info'>\n",
    "<strong>Evaluation Metric: Sum of Squared Errors</strong>\n",
    "\n",
    "<br>\n",
    "\n",
    "$\\huge \\hat{y}_i = mx_i+b_0$\n",
    "   \n",
    "<br>\n",
    "\n",
    "$\\huge SSE = \\sum \\limits_{i=1}^n (\\hat{y}_i  - y_i)^2$      \n",
    "---\n",
    "<br>    \n",
    "Where:\n",
    "    \n",
    "$\\large x_i$ = $x$ is the attribute/predictor. $i$ is the value of that predictor at a row/observation\n",
    "    \n",
    "$\\large \\hat{y}_i$ = Prediction from our model\n",
    "    \n",
    "$\\large y_i$ = Actual Outcome\n",
    "    \n",
    "---    \n",
    "$SSE$ is very intuitive.\n",
    "\n",
    "Everytime our model makes a prediction, there are three outcomes:\n",
    "1. `Too high` where y < $\\hat{y}$, \n",
    "2. `Too low` where y > $\\hat{y}$\n",
    "3. `Exact` where y == $\\hat{y}$\n",
    "\n",
    "---  \n",
    "    \n",
    "The __further away__ a prediction($\\hat{y}$) is from the actual value($y$), it is\n",
    "penalized __more__ than observations that are _slightly_ off from the actual value.\n",
    "\n",
    "\n",
    "The magnitude of penalization is evident e.g.\n",
    "                   \n",
    "                         \n",
    "Where:\n",
    "\n",
    "$\\hat{y}_1$ = 45\n",
    "\n",
    "$\\hat{y}_2$ = 100\n",
    "\n",
    "$y$ = 50\n",
    "\n",
    "Evaluate the expressions:\n",
    "        \n",
    "_Small deviation, Small penalization_\n",
    "    \n",
    "$SSE_1 = (\\hat{y}_1 - y)^2$\n",
    "    \n",
    "$(45 - 50)^2  = (-5)^2$\n",
    "\n",
    "$(-5)^2 = 25$\n",
    "\n",
    "$SSE_1 = 25$\n",
    "<br>\n",
    "<br>\n",
    "_Large deviation, Large penalization_\n",
    "\n",
    "$SSE_2 = (\\hat{y}_2 - y)^2$    \n",
    "    \n",
    "$(100 - 50)^2 = (50)^2$\n",
    "                         \n",
    "$(50)^2 = 2500$\n",
    "\n",
    "$SSE_2 = 2500$                         \n",
    "\n",
    "                         \n",
    "</div>"
   ]
  },
  {
   "cell_type": "code",
   "execution_count": 26,
   "metadata": {},
   "outputs": [],
   "source": [
    "baseline_sse = (residuals.baseline_residual**2).sum()\n",
    "model_sse = (residuals.ols_model_residuals**2).sum()"
   ]
  },
  {
   "cell_type": "markdown",
   "metadata": {},
   "source": [
    "<div class='alert alert-box alert-info'><strong>Reminder</strong>:\n",
    "If the Sum Squared Errors of our model is <strong> less </strong> than the baseline model, we can evaluate our model further. </div>"
   ]
  },
  {
   "cell_type": "code",
   "execution_count": 27,
   "metadata": {},
   "outputs": [
    {
     "name": "stdout",
     "output_type": "stream",
     "text": [
      "Our model beats the baseline!\n",
      "SSE: 349.98 < 17297.85\n",
      "Multiple below the baseline: 49.43\n",
      "Let's evaluate the model with a few more tests.\n"
     ]
    }
   ],
   "source": [
    "# If this variable is GREATER than 1, our model beats the baseline\n",
    "# If this variable is LESS than 1, the baseline model is better. Back to the drawing board.\n",
    "# If this variable is == 1, the baseline and ols model perform the same. What are the odds?\n",
    "evaluation = baseline_sse/model_sse\n",
    "\n",
    "# I'm do not know if the multiple assigned to `evaluation` \n",
    "# has any significance in evaluating models beyond what was mentioned above ^. \n",
    "\n",
    "if evaluation > 1:\n",
    "    print(\"Our model beats the baseline!\")\n",
    "    print(f\"SSE: {model_sse:.2f} < {baseline_sse:.2f}\")\n",
    "    print(f\"Multiple below the baseline: {baseline_sse/model_sse:.2f}\")  # Any significance?\n",
    "    print(\"Let's evaluate the model with a few more tests.\")\n",
    "else:\n",
    "    print(\"Return back to the workbench. This model does not outperform the baseline. \\\n",
    "          Remember, ask yourself if it's even worth it to build a model for your business \\\n",
    "          problems.\")"
   ]
  },
  {
   "cell_type": "code",
   "execution_count": 28,
   "metadata": {},
   "outputs": [
    {
     "name": "stdout",
     "output_type": "stream",
     "text": [
      "Our model beats the baseline!\n",
      "SSE: 349.98 < 17297.85\n",
      "49.43\n",
      "Let's evaluate the model with a few more tests.\n"
     ]
    }
   ],
   "source": [
    "if model_sse < baseline_sse:\n",
    "    print(\"Our model beats the baseline!\")\n",
    "    print(f\"SSE: {model_sse:.2f} < {baseline_sse:.2f}\")\n",
    "    print(f\"{baseline_sse/model_sse:.2f}\")\n",
    "    print(\"Let's evaluate the model with a few more tests.\")\n",
    "else:\n",
    "    print(\"Return back to the workbench. This model does not outperform the baseline. \\\n",
    "          Remember, ask yourself if it's even worth it to build a model for your business problems.\")"
   ]
  },
  {
   "cell_type": "markdown",
   "metadata": {},
   "source": [
    "### Model Significance\n",
    "1. R-squared (covered above)\n",
    "2. P-value of the F statistic\n",
    "> These two tests are built-in to our model!"
   ]
  },
  {
   "cell_type": "code",
   "execution_count": 29,
   "metadata": {},
   "outputs": [
    {
     "name": "stdout",
     "output_type": "stream",
     "text": [
      "Yep, our lil' ols model is something special:\n",
      "0.00 < 0.05\n"
     ]
    }
   ],
   "source": [
    "alpha = .05\n",
    "f_pval = ols_model.f_pvalue\n",
    "\n",
    "if f_pval < alpha:\n",
    "    print(\"Yep, our lil' ols model is something special:\")\n",
    "    print(f\"{f_pval:.2f} < {alpha}\")\n",
    "else:\n",
    "    print(\"Back to the drawing board!\")"
   ]
  },
  {
   "cell_type": "markdown",
   "metadata": {},
   "source": [
    "## Repetition Improves Performance!\n",
    "\n",
    "### 1.\n",
    "In the next section of your notebook, perform the steps above with the `rainfall` column as the model's feature.\n",
    "> Does this model beat the baseline? Would you prefer the `rainfall` model over the `flyers` model?"
   ]
  },
  {
   "cell_type": "code",
   "execution_count": 30,
   "metadata": {},
   "outputs": [],
   "source": [
    "x = df_lemonade.Rainfall\n",
    "y = df_lemonade.Sales\n",
    "\n",
    "residuals = pd.DataFrame({'x': x,\n",
    "                          'y': y})"
   ]
  },
  {
   "cell_type": "code",
   "execution_count": 31,
   "metadata": {},
   "outputs": [],
   "source": [
    "residuals['baseline_residual'] = df_lemonade.baseline - df_lemonade.Sales"
   ]
  },
  {
   "cell_type": "code",
   "execution_count": 32,
   "metadata": {},
   "outputs": [],
   "source": [
    "ols_model = ols('Sales ~ Rainfall', data=df_lemonade).fit()"
   ]
  },
  {
   "cell_type": "code",
   "execution_count": 33,
   "metadata": {},
   "outputs": [],
   "source": [
    "residuals['yhat'] = ols_model.predict(df_lemonade.Rainfall)"
   ]
  },
  {
   "cell_type": "code",
   "execution_count": 34,
   "metadata": {},
   "outputs": [],
   "source": [
    "residuals['ols_model_residuals'] = residuals.yhat - residuals.y"
   ]
  },
  {
   "cell_type": "code",
   "execution_count": 35,
   "metadata": {},
   "outputs": [
    {
     "data": {
      "text/html": [
       "<div>\n",
       "<style scoped>\n",
       "    .dataframe tbody tr th:only-of-type {\n",
       "        vertical-align: middle;\n",
       "    }\n",
       "\n",
       "    .dataframe tbody tr th {\n",
       "        vertical-align: top;\n",
       "    }\n",
       "\n",
       "    .dataframe thead th {\n",
       "        text-align: right;\n",
       "    }\n",
       "</style>\n",
       "<table border=\"1\" class=\"dataframe\">\n",
       "  <thead>\n",
       "    <tr style=\"text-align: right;\">\n",
       "      <th></th>\n",
       "      <th>x</th>\n",
       "      <th>y</th>\n",
       "      <th>baseline_residual</th>\n",
       "      <th>yhat</th>\n",
       "      <th>ols_model_residuals</th>\n",
       "    </tr>\n",
       "  </thead>\n",
       "  <tbody>\n",
       "    <tr>\n",
       "      <th>0</th>\n",
       "      <td>2.00</td>\n",
       "      <td>10</td>\n",
       "      <td>15.323288</td>\n",
       "      <td>-1.599602</td>\n",
       "      <td>-11.599602</td>\n",
       "    </tr>\n",
       "    <tr>\n",
       "      <th>1</th>\n",
       "      <td>1.33</td>\n",
       "      <td>13</td>\n",
       "      <td>12.323288</td>\n",
       "      <td>13.773142</td>\n",
       "      <td>0.773142</td>\n",
       "    </tr>\n",
       "    <tr>\n",
       "      <th>2</th>\n",
       "      <td>1.33</td>\n",
       "      <td>15</td>\n",
       "      <td>10.323288</td>\n",
       "      <td>13.773142</td>\n",
       "      <td>-1.226858</td>\n",
       "    </tr>\n",
       "    <tr>\n",
       "      <th>3</th>\n",
       "      <td>1.05</td>\n",
       "      <td>17</td>\n",
       "      <td>8.323288</td>\n",
       "      <td>20.197573</td>\n",
       "      <td>3.197573</td>\n",
       "    </tr>\n",
       "    <tr>\n",
       "      <th>4</th>\n",
       "      <td>1.00</td>\n",
       "      <td>18</td>\n",
       "      <td>7.323288</td>\n",
       "      <td>21.344793</td>\n",
       "      <td>3.344793</td>\n",
       "    </tr>\n",
       "  </tbody>\n",
       "</table>\n",
       "</div>"
      ],
      "text/plain": [
       "      x   y  baseline_residual       yhat  ols_model_residuals\n",
       "0  2.00  10          15.323288  -1.599602           -11.599602\n",
       "1  1.33  13          12.323288  13.773142             0.773142\n",
       "2  1.33  15          10.323288  13.773142            -1.226858\n",
       "3  1.05  17           8.323288  20.197573             3.197573\n",
       "4  1.00  18           7.323288  21.344793             3.344793"
      ]
     },
     "execution_count": 35,
     "metadata": {},
     "output_type": "execute_result"
    }
   ],
   "source": [
    "residuals.head()"
   ]
  },
  {
   "cell_type": "code",
   "execution_count": 36,
   "metadata": {},
   "outputs": [],
   "source": [
    "baseline_sse = (residuals.baseline_residual**2).sum()\n",
    "model_sse = (residuals.ols_model_residuals**2).sum()"
   ]
  },
  {
   "cell_type": "code",
   "execution_count": 37,
   "metadata": {},
   "outputs": [
    {
     "name": "stdout",
     "output_type": "stream",
     "text": [
      "Our model beats the baseline!\n",
      "SSE: 2998.24 < 17297.85\n",
      "Let's evaluate the model with a few more tests.\n"
     ]
    }
   ],
   "source": [
    "if model_sse < baseline_sse:\n",
    "    print(\"Our model beats the baseline!\")\n",
    "    print(f\"SSE: {model_sse:.2f} < {baseline_sse:.2f}\")\n",
    "    # print(f\"{baseline_sse/model_sse:.2f}\")\n",
    "    print(\"Let's evaluate the model with a few more tests.\")\n",
    "else:\n",
    "    print(\"Return back to the workbench. This model does not outperform the baseline. \\\n",
    "          Remember, ask yourself if it's even worth it to build a model for your business problems.\")"
   ]
  },
  {
   "cell_type": "markdown",
   "metadata": {},
   "source": [
    "__Takeaways__:\n",
    "\n",
    "Using `Temperature` to predict `Sales` has a lower SSE than `Rainfall`.\n",
    "\n",
    "\n",
    ">__Temperature__ SSE --- 349.98\n",
    ">\n",
    ">__Rainfall__ SSE --------- 2998.24\n",
    "\n",
    "\n",
    "I will move forward with `Temperature`.\n",
    "\n",
    "\n",
    "### 2. \n",
    "In the next section of your notebook, perform the steps above with the `log_rainfall` column as the model's feature.\n",
    "> Does this model beat the baseline?\n",
    ">\n",
    ">Would you prefer the `log_rainfall` model over the flyers model?\n",
    ">\n",
    ">Would you prefer the model built with `log_rainfall` over the `rainfall` model from before?"
   ]
  },
  {
   "cell_type": "code",
   "execution_count": 38,
   "metadata": {},
   "outputs": [],
   "source": [
    "df_lemonade['log_rainfall'] = np.log(df_lemonade.Rainfall)"
   ]
  },
  {
   "cell_type": "code",
   "execution_count": 39,
   "metadata": {},
   "outputs": [],
   "source": [
    "x = df_lemonade.Rainfall\n",
    "y = df_lemonade.Sales\n",
    "\n",
    "residuals = pd.DataFrame({'x': x,\n",
    "                          'y': y})"
   ]
  },
  {
   "cell_type": "code",
   "execution_count": 40,
   "metadata": {},
   "outputs": [],
   "source": [
    "residuals['baseline_residual'] = df_lemonade.baseline - df_lemonade.Sales"
   ]
  },
  {
   "cell_type": "code",
   "execution_count": 41,
   "metadata": {},
   "outputs": [],
   "source": [
    "ols_model = ols('Sales ~ log_rainfall', data=df_lemonade).fit()"
   ]
  },
  {
   "cell_type": "code",
   "execution_count": 42,
   "metadata": {},
   "outputs": [],
   "source": [
    "residuals['yhat'] = ols_model.predict(df_lemonade.log_rainfall)"
   ]
  },
  {
   "cell_type": "code",
   "execution_count": 43,
   "metadata": {},
   "outputs": [],
   "source": [
    "residuals['ols_model_residuals'] = residuals.yhat - residuals.y"
   ]
  },
  {
   "cell_type": "code",
   "execution_count": 44,
   "metadata": {},
   "outputs": [],
   "source": [
    "baseline_sse = (residuals.baseline_residual**2).sum()\n",
    "model_sse = (residuals.ols_model_residuals**2).sum()"
   ]
  },
  {
   "cell_type": "code",
   "execution_count": 45,
   "metadata": {},
   "outputs": [
    {
     "name": "stdout",
     "output_type": "stream",
     "text": [
      "Our model beats the baseline!\n",
      "SSE: 952.33 < 17297.85\n",
      "Let's evaluate the model with a few more tests.\n"
     ]
    }
   ],
   "source": [
    "if model_sse < baseline_sse:\n",
    "    print(\"Our model beats the baseline!\")\n",
    "    print(f\"SSE: {model_sse:.2f} < {baseline_sse:.2f}\")\n",
    "    # print(f\"{baseline_sse/model_sse:.2f}\")\n",
    "    print(\"Let's evaluate the model with a few more tests.\")\n",
    "else:\n",
    "    print(\"Return back to the workbench. This model does not outperform the baseline. \\\n",
    "          Remember, ask yourself if it's even worth it to build a model for your business problems.\")"
   ]
  },
  {
   "cell_type": "markdown",
   "metadata": {},
   "source": [
    "### 3.\n",
    "In the next section of your notebook, perform the steps above with the `flyers` column as the model's only feature.\n",
    "<div class=\"alert alert-box alert-info\">\n",
    "I performed OLS using Temperature in example 1. I will use the flyers column for example 3.</div>\n",
    "\n",
    ">Does this model beat the baseline?\n",
    ">\n",
    ">Would you prefer the `rainfall`, `log_rainfall`, or the `temperature` model?"
   ]
  },
  {
   "cell_type": "code",
   "execution_count": 46,
   "metadata": {},
   "outputs": [],
   "source": [
    "x = df_lemonade.Rainfall\n",
    "y = df_lemonade.Sales\n",
    "\n",
    "residuals = pd.DataFrame({'x': x,\n",
    "                          'y': y})"
   ]
  },
  {
   "cell_type": "code",
   "execution_count": 47,
   "metadata": {},
   "outputs": [],
   "source": [
    "residuals['baseline_residual'] = df_lemonade.baseline - df_lemonade.Sales"
   ]
  },
  {
   "cell_type": "code",
   "execution_count": 48,
   "metadata": {},
   "outputs": [],
   "source": [
    "ols_model = ols('Sales ~ Flyers', data=df_lemonade).fit()"
   ]
  },
  {
   "cell_type": "code",
   "execution_count": 49,
   "metadata": {},
   "outputs": [],
   "source": [
    "residuals['yhat'] = ols_model.predict(df_lemonade.Flyers)"
   ]
  },
  {
   "cell_type": "code",
   "execution_count": 50,
   "metadata": {},
   "outputs": [],
   "source": [
    "residuals['ols_model_residuals'] = residuals.yhat - residuals.y"
   ]
  },
  {
   "cell_type": "code",
   "execution_count": 51,
   "metadata": {},
   "outputs": [],
   "source": [
    "baseline_sse = (residuals.baseline_residual**2).sum()\n",
    "model_sse = (residuals.ols_model_residuals**2).sum()"
   ]
  },
  {
   "cell_type": "code",
   "execution_count": 52,
   "metadata": {},
   "outputs": [
    {
     "name": "stdout",
     "output_type": "stream",
     "text": [
      "Our model beats the baseline!\n",
      "SSE: 6083.33 < 17297.85\n",
      "Let's evaluate the model with a few more tests.\n"
     ]
    }
   ],
   "source": [
    "if model_sse < baseline_sse:\n",
    "    print(\"Our model beats the baseline!\")\n",
    "    print(f\"SSE: {model_sse:.2f} < {baseline_sse:.2f}\")\n",
    "    # print(f\"{baseline_sse/model_sse:.2f}\")\n",
    "    print(\"Let's evaluate the model with a few more tests.\")\n",
    "else:\n",
    "    print(\"Return back to the workbench. This model does not outperform the baseline. \\\n",
    "          Remember, ask yourself if it's even worth it to build a model for your business problems.\")"
   ]
  },
  {
   "cell_type": "markdown",
   "metadata": {},
   "source": [
    "### 4.\n",
    "Which of these 4 single regression models would you want to move forward with?\n",
    "\n",
    "### __Takeaways__\n",
    "---\n",
    "`Temperature` performs better at predicting Sales than any feature we've looked at. I will press forward with `Temperature`.\n",
    "\n",
    "`log_rainfall` has the second lowest SSE: 952.33. I would build a model that combines `log_rainfall` and `Temperature` to test whether it increases prediction \"accuracy/score\"?"
   ]
  },
  {
   "cell_type": "markdown",
   "metadata": {},
   "source": [
    "## Tips dataset\n",
    "\n",
    "1. Load the `tips` dataset from pydataset or seaborn"
   ]
  },
  {
   "cell_type": "code",
   "execution_count": 53,
   "metadata": {},
   "outputs": [],
   "source": [
    "df = data(\"tips\")"
   ]
  },
  {
   "cell_type": "markdown",
   "metadata": {},
   "source": [
    "2. Define your baseline for `tip`. Our goal will be to see if we can make a model that is better than baseline for predicting tips on `total_bill`."
   ]
  },
  {
   "cell_type": "code",
   "execution_count": 54,
   "metadata": {},
   "outputs": [],
   "source": [
    "x = df.total_bill\n",
    "y = df.tip\n",
    "baseline_model = df.tip.mean()\n",
    "baseline_residuals = df.tip - baseline_model\n",
    "\n",
    "residuals = pd.DataFrame({'x': x,\n",
    "                          'y': y,\n",
    "                          'baseline_model': baseline_model,\n",
    "                          'baseline_residuals': baseline_residuals\n",
    "                         })"
   ]
  },
  {
   "cell_type": "markdown",
   "metadata": {},
   "source": [
    "3. Fit a linear regression model (ordinary least squares) and compute `yhat`, predictions of tip using `total_bill`."
   ]
  },
  {
   "cell_type": "code",
   "execution_count": 55,
   "metadata": {},
   "outputs": [],
   "source": [
    "model = ols('tip ~ total_bill', data=df).fit()\n",
    "predictions = model.predict(df.total_bill)"
   ]
  },
  {
   "cell_type": "code",
   "execution_count": 56,
   "metadata": {},
   "outputs": [],
   "source": [
    "residuals['yhat'] = predictions\n",
    "residuals['model_residuals'] = residuals.yhat - residuals.y"
   ]
  },
  {
   "cell_type": "markdown",
   "metadata": {},
   "source": [
    "1. Calculate the sum of squared errors, explained sum of squares, total sum of squares, mean squared error, and root mean squared error for your model."
   ]
  },
  {
   "cell_type": "code",
   "execution_count": 57,
   "metadata": {},
   "outputs": [
    {
     "name": "stdout",
     "output_type": "stream",
     "text": [
      "OLS Model\n",
      "SSE: 252.79\n",
      "MSE: 1.04\n",
      "RMSE: 1.02\n"
     ]
    }
   ],
   "source": [
    "# Model SSE, MSE, RMSE\n",
    "model_sse = (residuals.model_residuals**2).sum()\n",
    "\n",
    "mse = mean_squared_error(residuals.y, residuals.yhat)\n",
    "\n",
    "rmse = sqrt(mse)\n",
    "\n",
    "print(\"OLS Model\")\n",
    "print(f\"SSE: {model_sse:.2f}\")\n",
    "print(f\"MSE: {mse:.2f}\")\n",
    "print(f\"RMSE: {rmse:.2f}\")"
   ]
  },
  {
   "cell_type": "markdown",
   "metadata": {},
   "source": [
    "2. Calculate the sum of squared errors, mean squared error, and root mean squared error for the baseline model (i.e. a model that always predicts the average tip amount)."
   ]
  },
  {
   "cell_type": "code",
   "execution_count": 142,
   "metadata": {},
   "outputs": [
    {
     "name": "stdout",
     "output_type": "stream",
     "text": [
      "Baseline Model\n",
      "SSE: 465.21\n",
      "MSE: 8.99\n",
      "RMSE: 3.00\n"
     ]
    }
   ],
   "source": [
    "# Baseline SSE, MSE, RMSE\n",
    "model_sse = (residuals.baseline_residuals**2).sum()\n",
    "\n",
    "mse = mean_squared_error(residuals.y, residuals.baseline_residuals)\n",
    "\n",
    "rmse = sqrt(mse)\n",
    "\n",
    "print(\"Baseline Model\")\n",
    "print(f\"SSE: {model_sse:.2f}\")\n",
    "print(f\"MSE: {mse:.2f}\")\n",
    "print(f\"RMSE: {rmse:.2f}\")"
   ]
  },
  {
   "cell_type": "markdown",
   "metadata": {},
   "source": [
    "3. Write python code that compares the sum of squared errors for your model against the sum of squared errors for the baseline model and outputs whether or not your model performs better than the baseline model."
   ]
  },
  {
   "cell_type": "code",
   "execution_count": 143,
   "metadata": {},
   "outputs": [
    {
     "name": "stdout",
     "output_type": "stream",
     "text": [
      "Our model beats the baseline!\n",
      "SSE: 465.21 < 17297.85\n",
      "Let's evaluate the model with a few more tests.\n"
     ]
    }
   ],
   "source": [
    "if model_sse < baseline_sse:\n",
    "    print(\"Our model beats the baseline!\")\n",
    "    print(f\"SSE: {model_sse:.2f} < {baseline_sse:.2f}\")\n",
    "    # print(f\"{baseline_sse/model_sse:.2f}\")\n",
    "    print(\"Let's evaluate the model with a few more tests.\")\n",
    "else:\n",
    "    print(\"Return back to the workbench. This model does not outperform the baseline. \\\n",
    "          Remember, ask yourself if it's even worth it to build a model for your business problems.\")"
   ]
  },
  {
   "cell_type": "markdown",
   "metadata": {},
   "source": [
    "4. What is the amount of variance explained in your model?"
   ]
  },
  {
   "cell_type": "code",
   "execution_count": 145,
   "metadata": {},
   "outputs": [
    {
     "name": "stdout",
     "output_type": "stream",
     "text": [
      "The amount of variance explained by the model: 0.457\n"
     ]
    }
   ],
   "source": [
    "rsquared = model.rsquared\n",
    "print(f\"The amount of variance explained by the model: {rsquared:.3f}\")"
   ]
  },
  {
   "cell_type": "markdown",
   "metadata": {},
   "source": [
    "5. Is your model significantly better than the baseline model?"
   ]
  },
  {
   "cell_type": "code",
   "execution_count": 147,
   "metadata": {},
   "outputs": [
    {
     "name": "stdout",
     "output_type": "stream",
     "text": [
      "Yep, our lil' ols model is something special:\n",
      "0.00 < 0.05\n"
     ]
    }
   ],
   "source": [
    "alpha = .05\n",
    "f_pval = model.f_pvalue\n",
    "\n",
    "if f_pval < alpha:\n",
    "    print(\"Yep, our lil' ols model is something special:\")\n",
    "    print(f\"{f_pval:.2f} < {alpha}\")\n",
    "else:\n",
    "    print(\"Back to the drawing board!\")"
   ]
  },
  {
   "cell_type": "markdown",
   "metadata": {},
   "source": [
    "6. Plot the residuals for the linear regression model that you made."
   ]
  },
  {
   "cell_type": "code",
   "execution_count": 68,
   "metadata": {},
   "outputs": [],
   "source": [
    "# Thank you Ryan for this wonderful function!\n",
    "def plot_residuals(actual, predicted):\n",
    "    residuals = actual - predicted\n",
    "    plt.hlines(0, actual.min(), actual.max(), ls=':')\n",
    "    plt.scatter(actual, residuals)\n",
    "    plt.ylabel('residual ($y - \\hat{y}$)')\n",
    "    plt.xlabel('actual value ($y$)')\n",
    "    plt.title('Actual vs Residual')\n",
    "    return plt.gca()"
   ]
  },
  {
   "cell_type": "code",
   "execution_count": 69,
   "metadata": {},
   "outputs": [
    {
     "data": {
      "image/png": "[encoded data removed]",
      "text/plain": [
       "<Figure size 432x288 with 1 Axes>"
      ]
     },
     "metadata": {
      "needs_background": "light"
     },
     "output_type": "display_data"
    }
   ],
   "source": [
    "plot_residuals(residuals.y, residuals.yhat);"
   ]
  }
 ],
 "metadata": {
  "kernelspec": {
   "display_name": "Python 3",
   "language": "python",
   "name": "python3"
  },
  "language_info": {
   "codemirror_mode": {
    "name": "ipython",
    "version": 3
   },
   "file_extension": ".py",
   "mimetype": "text/x-python",
   "name": "python",
   "nbconvert_exporter": "python",
   "pygments_lexer": "ipython3",
   "version": "3.7.6"
  }
 },
 "nbformat": 4,
 "nbformat_minor": 2
}
