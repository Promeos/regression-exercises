{
 "cells": [
  {
   "cell_type": "markdown",
   "metadata": {},
   "source": [
    "# Evaluate Exercises  "
   ]
  },
  {
   "cell_type": "code",
   "execution_count": 36,
   "metadata": {},
   "outputs": [],
   "source": [
    "import numpy as np\n",
    "import pandas as pd\n",
    "import matplotlib.pyplot as plt\n",
    "import seaborn as sns\n",
    "\n",
    "from evaluate import plot_residuals\n",
    "from math import sqrt\n",
    "from pydataset import data\n",
    "from statsmodels.formula.api import ols\n",
    "from sklearn.metrics import mean_squared_error"
   ]
  },
  {
   "cell_type": "markdown",
   "metadata": {},
   "source": [
    "## Evaluating simple linear regressions on lemonade data with other features:"
   ]
  },
  {
   "cell_type": "code",
   "execution_count": 255,
   "metadata": {},
   "outputs": [],
   "source": [
    "df_lemonade = pd.read_csv('lemonade.csv')"
   ]
  },
  {
   "cell_type": "code",
   "execution_count": 256,
   "metadata": {},
   "outputs": [
    {
     "data": {
      "text/html": [
       "<div>\n",
       "<style scoped>\n",
       "    .dataframe tbody tr th:only-of-type {\n",
       "        vertical-align: middle;\n",
       "    }\n",
       "\n",
       "    .dataframe tbody tr th {\n",
       "        vertical-align: top;\n",
       "    }\n",
       "\n",
       "    .dataframe thead th {\n",
       "        text-align: right;\n",
       "    }\n",
       "</style>\n",
       "<table border=\"1\" class=\"dataframe\">\n",
       "  <thead>\n",
       "    <tr style=\"text-align: right;\">\n",
       "      <th></th>\n",
       "      <th>Date</th>\n",
       "      <th>Day</th>\n",
       "      <th>Temperature</th>\n",
       "      <th>Rainfall</th>\n",
       "      <th>Flyers</th>\n",
       "      <th>Price</th>\n",
       "      <th>Sales</th>\n",
       "    </tr>\n",
       "  </thead>\n",
       "  <tbody>\n",
       "    <tr>\n",
       "      <th>0</th>\n",
       "      <td>1/1/17</td>\n",
       "      <td>Sunday</td>\n",
       "      <td>27.0</td>\n",
       "      <td>2.00</td>\n",
       "      <td>15</td>\n",
       "      <td>0.5</td>\n",
       "      <td>10</td>\n",
       "    </tr>\n",
       "    <tr>\n",
       "      <th>1</th>\n",
       "      <td>1/2/17</td>\n",
       "      <td>Monday</td>\n",
       "      <td>28.9</td>\n",
       "      <td>1.33</td>\n",
       "      <td>15</td>\n",
       "      <td>0.5</td>\n",
       "      <td>13</td>\n",
       "    </tr>\n",
       "    <tr>\n",
       "      <th>2</th>\n",
       "      <td>1/3/17</td>\n",
       "      <td>Tuesday</td>\n",
       "      <td>34.5</td>\n",
       "      <td>1.33</td>\n",
       "      <td>27</td>\n",
       "      <td>0.5</td>\n",
       "      <td>15</td>\n",
       "    </tr>\n",
       "    <tr>\n",
       "      <th>3</th>\n",
       "      <td>1/4/17</td>\n",
       "      <td>Wednesday</td>\n",
       "      <td>44.1</td>\n",
       "      <td>1.05</td>\n",
       "      <td>28</td>\n",
       "      <td>0.5</td>\n",
       "      <td>17</td>\n",
       "    </tr>\n",
       "    <tr>\n",
       "      <th>4</th>\n",
       "      <td>1/5/17</td>\n",
       "      <td>Thursday</td>\n",
       "      <td>42.4</td>\n",
       "      <td>1.00</td>\n",
       "      <td>33</td>\n",
       "      <td>0.5</td>\n",
       "      <td>18</td>\n",
       "    </tr>\n",
       "  </tbody>\n",
       "</table>\n",
       "</div>"
      ],
      "text/plain": [
       "     Date        Day  Temperature  Rainfall  Flyers  Price  Sales\n",
       "0  1/1/17     Sunday         27.0      2.00      15    0.5     10\n",
       "1  1/2/17     Monday         28.9      1.33      15    0.5     13\n",
       "2  1/3/17    Tuesday         34.5      1.33      27    0.5     15\n",
       "3  1/4/17  Wednesday         44.1      1.05      28    0.5     17\n",
       "4  1/5/17   Thursday         42.4      1.00      33    0.5     18"
      ]
     },
     "execution_count": 256,
     "metadata": {},
     "output_type": "execute_result"
    }
   ],
   "source": [
    "df_lemonade.head()"
   ]
  },
  {
   "cell_type": "markdown",
   "metadata": {},
   "source": [
    "### 1.\n",
    "Make a baseline for predicting sales. (The mean is a good baseline)"
   ]
  },
  {
   "cell_type": "code",
   "execution_count": 261,
   "metadata": {},
   "outputs": [],
   "source": [
    "baseline_model = df_lemonade.Sales.mean()"
   ]
  },
  {
   "cell_type": "markdown",
   "metadata": {},
   "source": [
    "### 2.\n",
    "Create a new dataframe to hold residuals."
   ]
  },
  {
   "cell_type": "code",
   "execution_count": 262,
   "metadata": {},
   "outputs": [],
   "source": [
    "x = df_lemonade.Temperature\n",
    "y = df_lemonade.Sales\n",
    "\n",
    "residuals = pd.DataFrame({'x': x,\n",
    "                          'y': y\n",
    "                         })\n",
    "residuals['baseline_yhat'] = baseline_model"
   ]
  },
  {
   "cell_type": "markdown",
   "metadata": {},
   "source": [
    "### 3.\n",
    "Calculate the baseline residuals."
   ]
  },
  {
   "cell_type": "code",
   "execution_count": 263,
   "metadata": {},
   "outputs": [],
   "source": [
    "residuals['baseline_residual'] = residuals.baseline_yhat - residuals.y"
   ]
  },
  {
   "cell_type": "markdown",
   "metadata": {},
   "source": [
    "### 4.\n",
    "Use `ols` from `statsmodels` to create a simple linear regression (1 independent variable, 1 dependent variable) to _predict `sales` using `temperature`_."
   ]
  },
  {
   "cell_type": "code",
   "execution_count": 264,
   "metadata": {},
   "outputs": [],
   "source": [
    "model = ols('Sales ~ Temperature', data=df_lemonade).fit()"
   ]
  },
  {
   "cell_type": "markdown",
   "metadata": {},
   "source": [
    "### 1.\n",
    "Use the `.predict` method from ols to produce all of our predictions. Add these predictions to the data."
   ]
  },
  {
   "cell_type": "code",
   "execution_count": 265,
   "metadata": {},
   "outputs": [],
   "source": [
    "residuals['model_yhat'] = ols_model.predict(df_lemonade.Temperature)"
   ]
  },
  {
   "cell_type": "markdown",
   "metadata": {},
   "source": [
    "### 2. \n",
    "Calculate that model's residuals."
   ]
  },
  {
   "cell_type": "code",
   "execution_count": 266,
   "metadata": {},
   "outputs": [],
   "source": [
    "residuals['model_residuals'] = residuals.model_yhat - residuals.y"
   ]
  },
  {
   "cell_type": "code",
   "execution_count": 267,
   "metadata": {},
   "outputs": [
    {
     "data": {
      "text/html": [
       "<div>\n",
       "<style scoped>\n",
       "    .dataframe tbody tr th:only-of-type {\n",
       "        vertical-align: middle;\n",
       "    }\n",
       "\n",
       "    .dataframe tbody tr th {\n",
       "        vertical-align: top;\n",
       "    }\n",
       "\n",
       "    .dataframe thead th {\n",
       "        text-align: right;\n",
       "    }\n",
       "</style>\n",
       "<table border=\"1\" class=\"dataframe\">\n",
       "  <thead>\n",
       "    <tr style=\"text-align: right;\">\n",
       "      <th></th>\n",
       "      <th>x</th>\n",
       "      <th>y</th>\n",
       "      <th>baseline_yhat</th>\n",
       "      <th>baseline_residual</th>\n",
       "      <th>model_yhat</th>\n",
       "      <th>model_residuals</th>\n",
       "    </tr>\n",
       "  </thead>\n",
       "  <tbody>\n",
       "    <tr>\n",
       "      <th>0</th>\n",
       "      <td>27.0</td>\n",
       "      <td>10</td>\n",
       "      <td>25.323288</td>\n",
       "      <td>15.323288</td>\n",
       "      <td>11.112301</td>\n",
       "      <td>1.112301</td>\n",
       "    </tr>\n",
       "    <tr>\n",
       "      <th>1</th>\n",
       "      <td>28.9</td>\n",
       "      <td>13</td>\n",
       "      <td>25.323288</td>\n",
       "      <td>12.323288</td>\n",
       "      <td>11.912772</td>\n",
       "      <td>-1.087228</td>\n",
       "    </tr>\n",
       "    <tr>\n",
       "      <th>2</th>\n",
       "      <td>34.5</td>\n",
       "      <td>15</td>\n",
       "      <td>25.323288</td>\n",
       "      <td>10.323288</td>\n",
       "      <td>14.272055</td>\n",
       "      <td>-0.727945</td>\n",
       "    </tr>\n",
       "    <tr>\n",
       "      <th>3</th>\n",
       "      <td>44.1</td>\n",
       "      <td>17</td>\n",
       "      <td>25.323288</td>\n",
       "      <td>8.323288</td>\n",
       "      <td>18.316540</td>\n",
       "      <td>1.316540</td>\n",
       "    </tr>\n",
       "    <tr>\n",
       "      <th>4</th>\n",
       "      <td>42.4</td>\n",
       "      <td>18</td>\n",
       "      <td>25.323288</td>\n",
       "      <td>7.323288</td>\n",
       "      <td>17.600329</td>\n",
       "      <td>-0.399671</td>\n",
       "    </tr>\n",
       "  </tbody>\n",
       "</table>\n",
       "</div>"
      ],
      "text/plain": [
       "      x   y  baseline_yhat  baseline_residual  model_yhat  model_residuals\n",
       "0  27.0  10      25.323288          15.323288   11.112301         1.112301\n",
       "1  28.9  13      25.323288          12.323288   11.912772        -1.087228\n",
       "2  34.5  15      25.323288          10.323288   14.272055        -0.727945\n",
       "3  44.1  17      25.323288           8.323288   18.316540         1.316540\n",
       "4  42.4  18      25.323288           7.323288   17.600329        -0.399671"
      ]
     },
     "execution_count": 267,
     "metadata": {},
     "output_type": "execute_result"
    }
   ],
   "source": [
    "residuals.head()"
   ]
  },
  {
   "cell_type": "markdown",
   "metadata": {},
   "source": [
    "### 3.\n",
    "Evaluate that model's performance and answer if the model is significant."
   ]
  },
  {
   "cell_type": "code",
   "execution_count": 268,
   "metadata": {},
   "outputs": [
    {
     "name": "stdout",
     "output_type": "stream",
     "text": [
      "R-squared of OLS Model 1 is: 97.98%\n"
     ]
    }
   ],
   "source": [
    "r2 = ols_model.rsquared\n",
    "print(f\"R-squared of OLS Model 1 is: {r2:.2%}\")"
   ]
  },
  {
   "cell_type": "markdown",
   "metadata": {},
   "source": [
    "### 4.\n",
    "Evaluate that model's performance and answer if the feature is significant.\n",
    "\n",
    "`Updated with clarification from Maggie! :)` \n",
    "\n",
    "<div class='alert alert-box alert-info'>\n",
    "<strong>Evaluation Metric: Sum of Squared Errors</strong>\n",
    "\n",
    "<br>\n",
    "\n",
    "$\\huge \\hat{y}_i = mx_i+b_0$\n",
    "   \n",
    "<br>\n",
    "\n",
    "$\\huge SSE = \\sum \\limits_{i=1}^n (\\hat{y}_i  - y_i)^2$      \n",
    "---\n",
    "<br>    \n",
    "Where:\n",
    "    \n",
    "$\\large x_i$ = $x$ is the attribute/predictor. $i$ is the value of that predictor at a row/observation\n",
    "    \n",
    "$\\large \\hat{y}_i$ = Prediction from our model\n",
    "    \n",
    "$\\large y_i$ = Actual Outcome\n",
    "    \n",
    "---    \n",
    "$SSE$ is very intuitive.\n",
    "\n",
    "Everytime our model makes a prediction, there are three outcomes:\n",
    "1. `Too high` where y < $\\hat{y}$, \n",
    "2. `Too low` where y > $\\hat{y}$\n",
    "3. `Exact` where y == $\\hat{y}$\n",
    "\n",
    "---  \n",
    "    \n",
    "The __further away__ a prediction($\\hat{y}$) is from the actual value($y$), it is\n",
    "penalized __more__ than observations that are _slightly_ off from the actual value.\n",
    "\n",
    "\n",
    "The magnitude of penalization is evident e.g.\n",
    "                   \n",
    "                         \n",
    "Where:\n",
    "\n",
    "$\\hat{y}_1$ = 45\n",
    "\n",
    "$\\hat{y}_2$ = 100\n",
    "\n",
    "$y$ = 50\n",
    "\n",
    "Evaluate the expressions:\n",
    "        \n",
    "_Small deviation, Small penalization_\n",
    "    \n",
    "$SSE_1 = (\\hat{y}_1 - y)^2$\n",
    "    \n",
    "$(45 - 50)^2  = (-5)^2$\n",
    "\n",
    "$(-5)^2 = 25$\n",
    "\n",
    "$SSE_1 = 25$\n",
    "<br>\n",
    "<br>\n",
    "_Large deviation, Large penalization_\n",
    "\n",
    "$SSE_2 = (\\hat{y}_2 - y)^2$    \n",
    "    \n",
    "$(100 - 50)^2 = (50)^2$\n",
    "                         \n",
    "$(50)^2 = 2500$\n",
    "\n",
    "$SSE_2 = 2500$                         \n",
    "\n",
    "                         \n",
    "</div>"
   ]
  },
  {
   "cell_type": "code",
   "execution_count": 269,
   "metadata": {},
   "outputs": [],
   "source": [
    "baseline_sse = (residuals.baseline_residual**2).sum()\n",
    "model_sse = (residuals.model_residuals**2).sum()"
   ]
  },
  {
   "cell_type": "markdown",
   "metadata": {},
   "source": [
    "<div class='alert alert-box alert-info'><strong>Reminder</strong>:\n",
    "If the Sum Squared Errors of our model is <strong> less </strong> than the baseline model, we can evaluate our model further. </div>"
   ]
  },
  {
   "cell_type": "code",
   "execution_count": 270,
   "metadata": {},
   "outputs": [
    {
     "name": "stdout",
     "output_type": "stream",
     "text": [
      "Our model beats the baseline!\n",
      "SSE: 349.98 < 17297.85\n",
      "Multiple below the baseline: 49.43\n",
      "Let's evaluate the model with a few more tests.\n"
     ]
    }
   ],
   "source": [
    "# If this variable is GREATER than 1, our model beats the baseline\n",
    "# If this variable is LESS than 1, the baseline model is better. Back to the drawing board.\n",
    "# If this variable is == 1, the baseline and ols model perform the same. What are the odds?\n",
    "evaluation = baseline_sse/model_sse\n",
    "\n",
    "# I'm do not know if the multiple assigned to `evaluation` \n",
    "# has any significance in evaluating models beyond what was mentioned above ^. \n",
    "\n",
    "if evaluation > 1:\n",
    "    print(\"Our model beats the baseline!\")\n",
    "    print(f\"SSE: {model_sse:.2f} < {baseline_sse:.2f}\")\n",
    "    print(f\"Multiple below the baseline: {baseline_sse/model_sse:.2f}\")  # Any significance?\n",
    "    print(\"Let's evaluate the model with a few more tests.\")\n",
    "else:\n",
    "    print(\"Return back to the workbench. This model does not outperform the baseline. \\\n",
    "          Remember, ask yourself if it's even worth it to build a model for your business \\\n",
    "          problems.\")"
   ]
  },
  {
   "cell_type": "code",
   "execution_count": 271,
   "metadata": {},
   "outputs": [
    {
     "name": "stdout",
     "output_type": "stream",
     "text": [
      "Our model beats the baseline!\n",
      "SSE: 349.98 < 17297.85\n",
      "49.43\n",
      "Let's evaluate the model with a few more tests.\n"
     ]
    }
   ],
   "source": [
    "if model_sse < baseline_sse:\n",
    "    print(\"Our model beats the baseline!\")\n",
    "    print(f\"SSE: {model_sse:.2f} < {baseline_sse:.2f}\")\n",
    "    print(f\"{baseline_sse/model_sse:.2f}\")\n",
    "    print(\"Let's evaluate the model with a few more tests.\")\n",
    "else:\n",
    "    print(\"Return back to the workbench. This model does not outperform the baseline. \\\n",
    "          Remember, ask yourself if it's even worth it to build a model for your business problems.\")"
   ]
  },
  {
   "cell_type": "markdown",
   "metadata": {},
   "source": [
    "### Model Significance\n",
    "1. R-squared (covered above)\n",
    "2. P-value of the F statistic\n",
    "> These two tests are built-in to our model!"
   ]
  },
  {
   "cell_type": "code",
   "execution_count": 272,
   "metadata": {},
   "outputs": [
    {
     "name": "stdout",
     "output_type": "stream",
     "text": [
      "Yep, our lil' ols model is something special:\n",
      "0.00 < 0.05\n"
     ]
    }
   ],
   "source": [
    "alpha = .05\n",
    "f_pval = ols_model.f_pvalue\n",
    "\n",
    "if f_pval < alpha:\n",
    "    print(\"Yep, our lil' ols model is something special:\")\n",
    "    print(f\"{f_pval:.2f} < {alpha}\")\n",
    "else:\n",
    "    print(\"Back to the drawing board!\")"
   ]
  },
  {
   "cell_type": "code",
   "execution_count": 273,
   "metadata": {},
   "outputs": [
    {
     "data": {
      "image/png": "[encoded data removed]",
      "text/plain": [
       "<Figure size 432x288 with 1 Axes>"
      ]
     },
     "metadata": {
      "needs_background": "light"
     },
     "output_type": "display_data"
    }
   ],
   "source": [
    "plot_residuals(residuals.y, residuals.model_yhat);"
   ]
  },
  {
   "cell_type": "markdown",
   "metadata": {},
   "source": [
    "## Repetition Improves Performance!\n",
    "\n",
    "### 1.\n",
    "In the next section of your notebook, perform the steps above with the `rainfall` column as the model's feature.\n",
    "> Does this model beat the baseline? Would you prefer the `rainfall` model over the `flyers` model?"
   ]
  },
  {
   "cell_type": "code",
   "execution_count": 84,
   "metadata": {},
   "outputs": [],
   "source": [
    "x = df_lemonade.Rainfall\n",
    "y = df_lemonade.Sales\n",
    "\n",
    "residuals = pd.DataFrame({'x': x,\n",
    "                          'y': y})\n",
    "\n",
    "residuals['baseline_yhat'] = residuals.y.mean()"
   ]
  },
  {
   "cell_type": "code",
   "execution_count": 85,
   "metadata": {},
   "outputs": [],
   "source": [
    "residuals['baseline_residual'] = residuals.baseline_yhat - residuals.y"
   ]
  },
  {
   "cell_type": "code",
   "execution_count": 86,
   "metadata": {},
   "outputs": [],
   "source": [
    "ols_model = ols('Sales ~ Rainfall', data=df_lemonade).fit()"
   ]
  },
  {
   "cell_type": "code",
   "execution_count": 87,
   "metadata": {},
   "outputs": [],
   "source": [
    "residuals['model_yhat'] = ols_model.predict(df_lemonade.Rainfall)"
   ]
  },
  {
   "cell_type": "code",
   "execution_count": 88,
   "metadata": {},
   "outputs": [],
   "source": [
    "residuals['model_residual'] = residuals.model_yhat - residuals.y"
   ]
  },
  {
   "cell_type": "code",
   "execution_count": 89,
   "metadata": {},
   "outputs": [
    {
     "data": {
      "text/html": [
       "<div>\n",
       "<style scoped>\n",
       "    .dataframe tbody tr th:only-of-type {\n",
       "        vertical-align: middle;\n",
       "    }\n",
       "\n",
       "    .dataframe tbody tr th {\n",
       "        vertical-align: top;\n",
       "    }\n",
       "\n",
       "    .dataframe thead th {\n",
       "        text-align: right;\n",
       "    }\n",
       "</style>\n",
       "<table border=\"1\" class=\"dataframe\">\n",
       "  <thead>\n",
       "    <tr style=\"text-align: right;\">\n",
       "      <th></th>\n",
       "      <th>x</th>\n",
       "      <th>y</th>\n",
       "      <th>baseline_yhat</th>\n",
       "      <th>baseline_residual</th>\n",
       "      <th>model_yhat</th>\n",
       "      <th>model_residual</th>\n",
       "    </tr>\n",
       "  </thead>\n",
       "  <tbody>\n",
       "    <tr>\n",
       "      <th>0</th>\n",
       "      <td>2.00</td>\n",
       "      <td>10</td>\n",
       "      <td>25.323288</td>\n",
       "      <td>15.323288</td>\n",
       "      <td>-1.599602</td>\n",
       "      <td>-11.599602</td>\n",
       "    </tr>\n",
       "    <tr>\n",
       "      <th>1</th>\n",
       "      <td>1.33</td>\n",
       "      <td>13</td>\n",
       "      <td>25.323288</td>\n",
       "      <td>12.323288</td>\n",
       "      <td>13.773142</td>\n",
       "      <td>0.773142</td>\n",
       "    </tr>\n",
       "    <tr>\n",
       "      <th>2</th>\n",
       "      <td>1.33</td>\n",
       "      <td>15</td>\n",
       "      <td>25.323288</td>\n",
       "      <td>10.323288</td>\n",
       "      <td>13.773142</td>\n",
       "      <td>-1.226858</td>\n",
       "    </tr>\n",
       "    <tr>\n",
       "      <th>3</th>\n",
       "      <td>1.05</td>\n",
       "      <td>17</td>\n",
       "      <td>25.323288</td>\n",
       "      <td>8.323288</td>\n",
       "      <td>20.197573</td>\n",
       "      <td>3.197573</td>\n",
       "    </tr>\n",
       "    <tr>\n",
       "      <th>4</th>\n",
       "      <td>1.00</td>\n",
       "      <td>18</td>\n",
       "      <td>25.323288</td>\n",
       "      <td>7.323288</td>\n",
       "      <td>21.344793</td>\n",
       "      <td>3.344793</td>\n",
       "    </tr>\n",
       "  </tbody>\n",
       "</table>\n",
       "</div>"
      ],
      "text/plain": [
       "      x   y  baseline_yhat  baseline_residual  model_yhat  model_residual\n",
       "0  2.00  10      25.323288          15.323288   -1.599602      -11.599602\n",
       "1  1.33  13      25.323288          12.323288   13.773142        0.773142\n",
       "2  1.33  15      25.323288          10.323288   13.773142       -1.226858\n",
       "3  1.05  17      25.323288           8.323288   20.197573        3.197573\n",
       "4  1.00  18      25.323288           7.323288   21.344793        3.344793"
      ]
     },
     "execution_count": 89,
     "metadata": {},
     "output_type": "execute_result"
    }
   ],
   "source": [
    "residuals.head()"
   ]
  },
  {
   "cell_type": "code",
   "execution_count": 90,
   "metadata": {},
   "outputs": [],
   "source": [
    "baseline_sse = (residuals.baseline_residual**2).sum()\n",
    "model_sse = (residuals.model_residual**2).sum()"
   ]
  },
  {
   "cell_type": "code",
   "execution_count": 91,
   "metadata": {},
   "outputs": [
    {
     "name": "stdout",
     "output_type": "stream",
     "text": [
      "Our model beats the baseline!\n",
      "SSE: 2998.24 < 17297.85\n",
      "Let's evaluate the model with a few more tests.\n"
     ]
    }
   ],
   "source": [
    "if model_sse < baseline_sse:\n",
    "    print(\"Our model beats the baseline!\")\n",
    "    print(f\"SSE: {model_sse:.2f} < {baseline_sse:.2f}\")\n",
    "    # print(f\"{baseline_sse/model_sse:.2f}\")\n",
    "    print(\"Let's evaluate the model with a few more tests.\")\n",
    "else:\n",
    "    print(\"Return back to the workbench. This model does not outperform the baseline. \\\n",
    "          Remember, ask yourself if it's even worth it to build a model for your business problems.\")"
   ]
  },
  {
   "cell_type": "markdown",
   "metadata": {},
   "source": [
    "__Takeaways__:\n",
    "\n",
    "Using `Temperature` to predict `Sales` has a lower SSE than `Rainfall`.\n",
    "\n",
    "\n",
    ">__Temperature__ SSE --- 349.98\n",
    ">\n",
    ">__Rainfall__ SSE --------- 2998.24\n",
    "\n",
    "\n",
    "I will move forward with `Temperature`.\n",
    "\n",
    "\n",
    "### 2. \n",
    "In the next section of your notebook, perform the steps above with the `log_rainfall` column as the model's feature.\n",
    "> Does this model beat the baseline?\n",
    ">\n",
    ">Would you prefer the `log_rainfall` model over the flyers model?\n",
    ">\n",
    ">Would you prefer the model built with `log_rainfall` over the `rainfall` model from before?"
   ]
  },
  {
   "cell_type": "code",
   "execution_count": 61,
   "metadata": {},
   "outputs": [],
   "source": [
    "df_lemonade['log_rainfall'] = np.log(df_lemonade.Rainfall)"
   ]
  },
  {
   "cell_type": "code",
   "execution_count": 27,
   "metadata": {},
   "outputs": [],
   "source": [
    "x = df_lemonade.Rainfall\n",
    "y = df_lemonade.Sales\n",
    "\n",
    "residuals = pd.DataFrame({'x': x,\n",
    "                          'y': y})\n",
    "\n",
    "residuals['baseline_yhat'] = df_lemonade.Sales.mean()"
   ]
  },
  {
   "cell_type": "code",
   "execution_count": 29,
   "metadata": {},
   "outputs": [],
   "source": [
    "residuals['baseline_residual'] = residuals.baseline_yhat - residuals.y"
   ]
  },
  {
   "cell_type": "code",
   "execution_count": 30,
   "metadata": {},
   "outputs": [],
   "source": [
    "ols_model = ols('Sales ~ log_rainfall', data=df_lemonade).fit()"
   ]
  },
  {
   "cell_type": "code",
   "execution_count": 31,
   "metadata": {},
   "outputs": [],
   "source": [
    "residuals['yhat'] = ols_model.predict(df_lemonade.log_rainfall)"
   ]
  },
  {
   "cell_type": "code",
   "execution_count": 32,
   "metadata": {},
   "outputs": [],
   "source": [
    "residuals['ols_model_residuals'] = residuals.yhat - residuals.y"
   ]
  },
  {
   "cell_type": "code",
   "execution_count": 33,
   "metadata": {},
   "outputs": [],
   "source": [
    "baseline_sse = (residuals.baseline_residual**2).sum()\n",
    "model_sse = (residuals.ols_model_residuals**2).sum()"
   ]
  },
  {
   "cell_type": "code",
   "execution_count": 34,
   "metadata": {},
   "outputs": [
    {
     "name": "stdout",
     "output_type": "stream",
     "text": [
      "Our model beats the baseline!\n",
      "SSE: 952.33 < 17297.85\n",
      "Let's evaluate the model with a few more tests.\n"
     ]
    }
   ],
   "source": [
    "if model_sse < baseline_sse:\n",
    "    print(\"Our model beats the baseline!\")\n",
    "    print(f\"SSE: {model_sse:.2f} < {baseline_sse:.2f}\")\n",
    "    # print(f\"{baseline_sse/model_sse:.2f}\")\n",
    "    print(\"Let's evaluate the model with a few more tests.\")\n",
    "else:\n",
    "    print(\"Return back to the workbench. This model does not outperform the baseline. \\\n",
    "          Remember, ask yourself if it's even worth it to build a model for your business problems.\")"
   ]
  },
  {
   "cell_type": "code",
   "execution_count": 93,
   "metadata": {},
   "outputs": [
    {
     "data": {
      "image/png": "[encoded data removed]",
      "text/plain": [
       "<Figure size 432x288 with 1 Axes>"
      ]
     },
     "metadata": {
      "needs_background": "light"
     },
     "output_type": "display_data"
    }
   ],
   "source": [
    "plot_residuals(residuals.y, residuals.model_yhat);"
   ]
  },
  {
   "cell_type": "markdown",
   "metadata": {},
   "source": [
    "### 3.\n",
    "In the next section of your notebook, perform the steps above with the `flyers` column as the model's only feature.\n",
    "<div class=\"alert alert-box alert-info\">\n",
    "I performed OLS using Temperature in example 1. I will use the flyers column for example 3.</div>\n",
    "\n",
    ">Does this model beat the baseline?\n",
    ">\n",
    ">Would you prefer the `rainfall`, `log_rainfall`, or the `temperature` model?"
   ]
  },
  {
   "cell_type": "code",
   "execution_count": 242,
   "metadata": {},
   "outputs": [],
   "source": [
    "x = df_lemonade.Flyers\n",
    "y = df_lemonade.Sales\n",
    "\n",
    "residuals = pd.DataFrame({'x': x,\n",
    "                          'y': y})"
   ]
  },
  {
   "cell_type": "code",
   "execution_count": 243,
   "metadata": {},
   "outputs": [],
   "source": [
    "residuals['baseline_residual'] = residuals.y.mean()"
   ]
  },
  {
   "cell_type": "code",
   "execution_count": 244,
   "metadata": {},
   "outputs": [],
   "source": [
    "model = ols('Sales ~ Flyers', data=df_lemonade).fit()"
   ]
  },
  {
   "cell_type": "code",
   "execution_count": 245,
   "metadata": {},
   "outputs": [],
   "source": [
    "residuals['model_yhat'] = model.predict(df_lemonade.Flyers)"
   ]
  },
  {
   "cell_type": "code",
   "execution_count": 246,
   "metadata": {},
   "outputs": [],
   "source": [
    "residuals['model_residual'] = residuals.model_yhat - residuals.y"
   ]
  },
  {
   "cell_type": "code",
   "execution_count": 247,
   "metadata": {},
   "outputs": [],
   "source": [
    "baseline_sse = (residuals.baseline_residual**2).sum()\n",
    "model_sse = (residuals.model_residual**2).sum()"
   ]
  },
  {
   "cell_type": "code",
   "execution_count": 248,
   "metadata": {},
   "outputs": [
    {
     "name": "stdout",
     "output_type": "stream",
     "text": [
      "Our model beats the baseline!\n",
      "SSE: 6083.33 < 234063.15\n",
      "Let's evaluate the model with a few more tests.\n"
     ]
    }
   ],
   "source": [
    "if model_sse < baseline_sse:\n",
    "    print(\"Our model beats the baseline!\")\n",
    "    print(f\"SSE: {model_sse:.2f} < {baseline_sse:.2f}\")\n",
    "    # print(f\"{baseline_sse/model_sse:.2f}\")\n",
    "    print(\"Let's evaluate the model with a few more tests.\")\n",
    "else:\n",
    "    print(\"Return back to the workbench. This model does not outperform the baseline. \\\n",
    "          Remember, ask yourself if it's even worth it to build a model for your business problems.\")"
   ]
  },
  {
   "cell_type": "code",
   "execution_count": 250,
   "metadata": {},
   "outputs": [
    {
     "data": {
      "image/png": "[encoded data removed]",
      "text/plain": [
       "<Figure size 432x288 with 1 Axes>"
      ]
     },
     "metadata": {
      "needs_background": "light"
     },
     "output_type": "display_data"
    }
   ],
   "source": [
    "plot_residuals(residuals.y, residuals.model_yhat);"
   ]
  },
  {
   "cell_type": "markdown",
   "metadata": {},
   "source": [
    "### 4.\n",
    "Which of these 4 single regression models would you want to move forward with?\n",
    "\n",
    "### __Takeaways__\n",
    "---\n",
    "`Temperature` performs better at predicting Sales than any feature we've looked at. I will press forward with `Temperature`.\n",
    "\n",
    "`log_rainfall` has the second lowest SSE: 952.33. I would build a model that combines `log_rainfall` and `Temperature` to test whether it increases prediction \"accuracy/score\"?"
   ]
  },
  {
   "cell_type": "markdown",
   "metadata": {},
   "source": [
    "## Tips dataset\n",
    "\n",
    "1. Load the `tips` dataset from pydataset or seaborn"
   ]
  },
  {
   "cell_type": "code",
   "execution_count": 136,
   "metadata": {},
   "outputs": [],
   "source": [
    "df = data(\"tips\")"
   ]
  },
  {
   "cell_type": "markdown",
   "metadata": {},
   "source": [
    "2. Define your baseline for `tip`. Our goal will be to see if we can make a model that is better than baseline for predicting tips on `total_bill`."
   ]
  },
  {
   "cell_type": "code",
   "execution_count": 144,
   "metadata": {},
   "outputs": [],
   "source": [
    "x = df.total_bill\n",
    "y = df.tip\n",
    "\n",
    "residuals = pd.DataFrame({'x': x,\n",
    "                          'y': y\n",
    "                         })\n",
    "\n",
    "residuals['baseline_yhat'] = df.tip.mean()\n",
    "residuals['baseline_residual'] = baseline_model"
   ]
  },
  {
   "cell_type": "markdown",
   "metadata": {},
   "source": [
    "3. Fit a linear regression model (ordinary least squares) and compute `yhat`, predictions of tip using `total_bill`."
   ]
  },
  {
   "cell_type": "code",
   "execution_count": 145,
   "metadata": {},
   "outputs": [],
   "source": [
    "model = ols('tip ~ total_bill', data=df).fit()\n",
    "residuals['model_yhat'] = model.predict(df.total_bill)"
   ]
  },
  {
   "cell_type": "code",
   "execution_count": 146,
   "metadata": {},
   "outputs": [],
   "source": [
    "residuals['model_residual'] = residuals.model_yhat - residuals.y"
   ]
  },
  {
   "cell_type": "markdown",
   "metadata": {},
   "source": [
    "1. Calculate the sum of squared errors, explained sum of squares, total sum of squares, mean squared error, and root mean squared error for your model."
   ]
  },
  {
   "cell_type": "code",
   "execution_count": 147,
   "metadata": {},
   "outputs": [
    {
     "name": "stdout",
     "output_type": "stream",
     "text": [
      "OLS Model\n",
      "SSE: 252.79\n",
      "MSE: 1.04\n",
      "RMSE: 1.02\n"
     ]
    }
   ],
   "source": [
    "# Model SSE, MSE, RMSE\n",
    "model_sse = (residuals.model_residual**2).sum()\n",
    "\n",
    "mse = mean_squared_error(residuals.y, residuals.model_yhat)\n",
    "\n",
    "rmse = sqrt(mse)\n",
    "\n",
    "print(\"OLS Model\")\n",
    "print(f\"SSE: {model_sse:.2f}\")\n",
    "print(f\"MSE: {mse:.2f}\")\n",
    "print(f\"RMSE: {rmse:.2f}\")"
   ]
  },
  {
   "cell_type": "markdown",
   "metadata": {},
   "source": [
    "2. Calculate the sum of squared errors, mean squared error, and root mean squared error for the baseline model (i.e. a model that always predicts the average tip amount)."
   ]
  },
  {
   "cell_type": "code",
   "execution_count": 149,
   "metadata": {},
   "outputs": [
    {
     "name": "stdout",
     "output_type": "stream",
     "text": [
      "Baseline Model\n",
      "SSE: 2193.48\n",
      "MSE: 1.91\n",
      "RMSE: 1.38\n"
     ]
    }
   ],
   "source": [
    "# Baseline SSE, MSE, RMSE\n",
    "baseline_sse = (residuals.baseline_residual**2).sum()\n",
    "\n",
    "mse = mean_squared_error(residuals.y, residuals.baseline_yhat)\n",
    "\n",
    "rmse = sqrt(mse)\n",
    "\n",
    "print(\"Baseline Model\")\n",
    "print(f\"SSE: {baseline_sse:.2f}\")\n",
    "print(f\"MSE: {mse:.2f}\")\n",
    "print(f\"RMSE: {rmse:.2f}\")"
   ]
  },
  {
   "cell_type": "markdown",
   "metadata": {},
   "source": [
    "3. Write python code that compares the sum of squared errors for your model against the sum of squared errors for the baseline model and outputs whether or not your model performs better than the baseline model."
   ]
  },
  {
   "cell_type": "code",
   "execution_count": 150,
   "metadata": {},
   "outputs": [
    {
     "name": "stdout",
     "output_type": "stream",
     "text": [
      "Our model beats the baseline!\n",
      "SSE: 252.79 < 2193.48\n",
      "Let's evaluate the model with a few more tests.\n"
     ]
    }
   ],
   "source": [
    "if model_sse < baseline_sse:\n",
    "    print(\"Our model beats the baseline!\")\n",
    "    print(f\"SSE: {model_sse:.2f} < {baseline_sse:.2f}\")\n",
    "    # print(f\"{baseline_sse/model_sse:.2f}\")\n",
    "    print(\"Let's evaluate the model with a few more tests.\")\n",
    "else:\n",
    "    print(\"Return back to the workbench. This model does not outperform the baseline. \\\n",
    "          Remember, ask yourself if it's even worth it to build a model for your business problems.\")"
   ]
  },
  {
   "cell_type": "markdown",
   "metadata": {},
   "source": [
    "4. What is the amount of variance explained in your model?"
   ]
  },
  {
   "cell_type": "code",
   "execution_count": 154,
   "metadata": {},
   "outputs": [
    {
     "name": "stdout",
     "output_type": "stream",
     "text": [
      "The amount of variance explained by the model: 45.66%\n"
     ]
    }
   ],
   "source": [
    "rsquared = model.rsquared\n",
    "print(f\"The amount of variance explained by the model: {rsquared:.2%}\")"
   ]
  },
  {
   "cell_type": "markdown",
   "metadata": {},
   "source": [
    "5. Is your model significantly better than the baseline model?"
   ]
  },
  {
   "cell_type": "code",
   "execution_count": 156,
   "metadata": {},
   "outputs": [
    {
     "name": "stdout",
     "output_type": "stream",
     "text": [
      "Yep, our lil' ols model is something special:\n",
      "0.00 < 0.05\n"
     ]
    }
   ],
   "source": [
    "alpha = .05\n",
    "f_pval = model.f_pvalue\n",
    "\n",
    "if f_pval < alpha:\n",
    "    print(\"Yep, our lil' ols model is something special:\")\n",
    "    print(f\"{f_pval:.2f} < {alpha}\")\n",
    "else:\n",
    "    print(\"Back to the drawing board!\")"
   ]
  },
  {
   "cell_type": "markdown",
   "metadata": {},
   "source": [
    "6. Plot the residuals for the linear regression model that you made."
   ]
  },
  {
   "cell_type": "code",
   "execution_count": 161,
   "metadata": {},
   "outputs": [
    {
     "data": {
      "image/png": "[encoded data removed]",
      "text/plain": [
       "<Figure size 432x288 with 1 Axes>"
      ]
     },
     "metadata": {
      "needs_background": "light"
     },
     "output_type": "display_data"
    }
   ],
   "source": [
    "# Thank you Ryan for this wonderful function!\n",
    "plot_residuals(residuals.y, residuals.model_yhat);"
   ]
  },
  {
   "cell_type": "markdown",
   "metadata": {},
   "source": [
    "#  OLS Models using scaled data"
   ]
  },
  {
   "cell_type": "code",
   "execution_count": 251,
   "metadata": {},
   "outputs": [
    {
     "data": {
      "text/html": [
       "<div>\n",
       "<style scoped>\n",
       "    .dataframe tbody tr th:only-of-type {\n",
       "        vertical-align: middle;\n",
       "    }\n",
       "\n",
       "    .dataframe tbody tr th {\n",
       "        vertical-align: top;\n",
       "    }\n",
       "\n",
       "    .dataframe thead th {\n",
       "        text-align: right;\n",
       "    }\n",
       "</style>\n",
       "<table border=\"1\" class=\"dataframe\">\n",
       "  <thead>\n",
       "    <tr style=\"text-align: right;\">\n",
       "      <th></th>\n",
       "      <th>Date</th>\n",
       "      <th>Day</th>\n",
       "      <th>Temperature</th>\n",
       "      <th>Rainfall</th>\n",
       "      <th>Flyers</th>\n",
       "      <th>Price</th>\n",
       "      <th>Sales</th>\n",
       "      <th>log_rainfall</th>\n",
       "    </tr>\n",
       "  </thead>\n",
       "  <tbody>\n",
       "    <tr>\n",
       "      <th>0</th>\n",
       "      <td>1/1/17</td>\n",
       "      <td>Sunday</td>\n",
       "      <td>27.0</td>\n",
       "      <td>2.00</td>\n",
       "      <td>15</td>\n",
       "      <td>0.5</td>\n",
       "      <td>10</td>\n",
       "      <td>0.693147</td>\n",
       "    </tr>\n",
       "    <tr>\n",
       "      <th>1</th>\n",
       "      <td>1/2/17</td>\n",
       "      <td>Monday</td>\n",
       "      <td>28.9</td>\n",
       "      <td>1.33</td>\n",
       "      <td>15</td>\n",
       "      <td>0.5</td>\n",
       "      <td>13</td>\n",
       "      <td>0.285179</td>\n",
       "    </tr>\n",
       "    <tr>\n",
       "      <th>2</th>\n",
       "      <td>1/3/17</td>\n",
       "      <td>Tuesday</td>\n",
       "      <td>34.5</td>\n",
       "      <td>1.33</td>\n",
       "      <td>27</td>\n",
       "      <td>0.5</td>\n",
       "      <td>15</td>\n",
       "      <td>0.285179</td>\n",
       "    </tr>\n",
       "    <tr>\n",
       "      <th>3</th>\n",
       "      <td>1/4/17</td>\n",
       "      <td>Wednesday</td>\n",
       "      <td>44.1</td>\n",
       "      <td>1.05</td>\n",
       "      <td>28</td>\n",
       "      <td>0.5</td>\n",
       "      <td>17</td>\n",
       "      <td>0.048790</td>\n",
       "    </tr>\n",
       "    <tr>\n",
       "      <th>4</th>\n",
       "      <td>1/5/17</td>\n",
       "      <td>Thursday</td>\n",
       "      <td>42.4</td>\n",
       "      <td>1.00</td>\n",
       "      <td>33</td>\n",
       "      <td>0.5</td>\n",
       "      <td>18</td>\n",
       "      <td>0.000000</td>\n",
       "    </tr>\n",
       "  </tbody>\n",
       "</table>\n",
       "</div>"
      ],
      "text/plain": [
       "     Date        Day  Temperature  Rainfall  Flyers  Price  Sales  \\\n",
       "0  1/1/17     Sunday         27.0      2.00      15    0.5     10   \n",
       "1  1/2/17     Monday         28.9      1.33      15    0.5     13   \n",
       "2  1/3/17    Tuesday         34.5      1.33      27    0.5     15   \n",
       "3  1/4/17  Wednesday         44.1      1.05      28    0.5     17   \n",
       "4  1/5/17   Thursday         42.4      1.00      33    0.5     18   \n",
       "\n",
       "   log_rainfall  \n",
       "0      0.693147  \n",
       "1      0.285179  \n",
       "2      0.285179  \n",
       "3      0.048790  \n",
       "4      0.000000  "
      ]
     },
     "execution_count": 251,
     "metadata": {},
     "output_type": "execute_result"
    }
   ],
   "source": [
    "df_lemonade.head()"
   ]
  },
  {
   "cell_type": "code",
   "execution_count": 163,
   "metadata": {},
   "outputs": [],
   "source": [
    "columns_to_scale = ['Temperature', 'Flyers']\n",
    "y = df_lemonade.Sales"
   ]
  },
  {
   "cell_type": "code",
   "execution_count": 164,
   "metadata": {},
   "outputs": [],
   "source": [
    "df_numeric = np.log(df_lemonade[columns_to_scale])"
   ]
  },
  {
   "cell_type": "code",
   "execution_count": 165,
   "metadata": {},
   "outputs": [],
   "source": [
    "df_scaled = pd.concat([df_numeric, y], axis=1)"
   ]
  },
  {
   "cell_type": "code",
   "execution_count": 166,
   "metadata": {},
   "outputs": [],
   "source": [
    "df_scaled.rename(columns={'Temperature': 'temperature_scaled',\n",
    "                          'Flyers' :'flyers_scaled'},\n",
    "                 inplace=True)"
   ]
  },
  {
   "cell_type": "code",
   "execution_count": 167,
   "metadata": {},
   "outputs": [
    {
     "data": {
      "text/html": [
       "<div>\n",
       "<style scoped>\n",
       "    .dataframe tbody tr th:only-of-type {\n",
       "        vertical-align: middle;\n",
       "    }\n",
       "\n",
       "    .dataframe tbody tr th {\n",
       "        vertical-align: top;\n",
       "    }\n",
       "\n",
       "    .dataframe thead th {\n",
       "        text-align: right;\n",
       "    }\n",
       "</style>\n",
       "<table border=\"1\" class=\"dataframe\">\n",
       "  <thead>\n",
       "    <tr style=\"text-align: right;\">\n",
       "      <th></th>\n",
       "      <th>temperature_scaled</th>\n",
       "      <th>flyers_scaled</th>\n",
       "      <th>Sales</th>\n",
       "    </tr>\n",
       "  </thead>\n",
       "  <tbody>\n",
       "    <tr>\n",
       "      <th>0</th>\n",
       "      <td>3.295837</td>\n",
       "      <td>2.708050</td>\n",
       "      <td>10</td>\n",
       "    </tr>\n",
       "    <tr>\n",
       "      <th>1</th>\n",
       "      <td>3.363842</td>\n",
       "      <td>2.708050</td>\n",
       "      <td>13</td>\n",
       "    </tr>\n",
       "    <tr>\n",
       "      <th>2</th>\n",
       "      <td>3.540959</td>\n",
       "      <td>3.295837</td>\n",
       "      <td>15</td>\n",
       "    </tr>\n",
       "    <tr>\n",
       "      <th>3</th>\n",
       "      <td>3.786460</td>\n",
       "      <td>3.332205</td>\n",
       "      <td>17</td>\n",
       "    </tr>\n",
       "    <tr>\n",
       "      <th>4</th>\n",
       "      <td>3.747148</td>\n",
       "      <td>3.496508</td>\n",
       "      <td>18</td>\n",
       "    </tr>\n",
       "  </tbody>\n",
       "</table>\n",
       "</div>"
      ],
      "text/plain": [
       "   temperature_scaled  flyers_scaled  Sales\n",
       "0            3.295837       2.708050     10\n",
       "1            3.363842       2.708050     13\n",
       "2            3.540959       3.295837     15\n",
       "3            3.786460       3.332205     17\n",
       "4            3.747148       3.496508     18"
      ]
     },
     "execution_count": 167,
     "metadata": {},
     "output_type": "execute_result"
    }
   ],
   "source": [
    "df_scaled.head()"
   ]
  },
  {
   "cell_type": "markdown",
   "metadata": {},
   "source": [
    "## OLS Model: Log Temperature Scaled"
   ]
  },
  {
   "cell_type": "code",
   "execution_count": 185,
   "metadata": {},
   "outputs": [],
   "source": [
    "model_1_scaled = ols('Sales ~ temperature_scaled', df_scaled).fit()"
   ]
  },
  {
   "cell_type": "code",
   "execution_count": 186,
   "metadata": {},
   "outputs": [],
   "source": [
    "evaluations = pd.DataFrame({'x':df_scaled.temperature_scaled,\n",
    "                            'y':df_scaled.Sales\n",
    "                           })"
   ]
  },
  {
   "cell_type": "code",
   "execution_count": 187,
   "metadata": {},
   "outputs": [],
   "source": [
    "evaluations['baseline_yhat'] = evaluations.y.mean()"
   ]
  },
  {
   "cell_type": "code",
   "execution_count": 188,
   "metadata": {},
   "outputs": [],
   "source": [
    "evaluations['model_yhat'] = model_1_scaled.predict()"
   ]
  },
  {
   "cell_type": "code",
   "execution_count": 190,
   "metadata": {},
   "outputs": [],
   "source": [
    "evaluations['baseline_residual'] = evaluations.baseline_yhat \\\n",
    "                                   - evaluations.y"
   ]
  },
  {
   "cell_type": "code",
   "execution_count": 192,
   "metadata": {},
   "outputs": [],
   "source": [
    "evaluations['model_residual'] = evaluations.model_yhat \\\n",
    "                                - evaluations.y"
   ]
  },
  {
   "cell_type": "code",
   "execution_count": 177,
   "metadata": {},
   "outputs": [],
   "source": [
    "# Baseline model - evaluation metrics\n",
    "baseline_mse = mean_squared_error(evaluations.y,\n",
    "                                  evaluations.baseline_yhat)\n",
    "baseline_sse = baseline_mse * len(evaluations.baseline_yhat)\n",
    "baseline_rmse = sqrt(baseline_mse)"
   ]
  },
  {
   "cell_type": "code",
   "execution_count": 194,
   "metadata": {},
   "outputs": [],
   "source": [
    "# Model evaluation metrics\n",
    "model_mse = mean_squared_error(evaluations.y,\n",
    "                               evaluations.model_yhat)\n",
    "model_sse = model_mse * len(evaluations.model_yhat)\n",
    "model_rmse = sqrt(model_mse)"
   ]
  },
  {
   "cell_type": "code",
   "execution_count": 196,
   "metadata": {},
   "outputs": [
    {
     "data": {
      "image/png": "[encoded data removed]",
      "text/plain": [
       "<Figure size 432x288 with 1 Axes>"
      ]
     },
     "metadata": {
      "needs_background": "light"
     },
     "output_type": "display_data"
    }
   ],
   "source": [
    "plot_residuals(evaluations.y, evaluations.baseline_yhat);"
   ]
  },
  {
   "cell_type": "code",
   "execution_count": 183,
   "metadata": {},
   "outputs": [
    {
     "name": "stdout",
     "output_type": "stream",
     "text": [
      "Baseline Metrics\n",
      "Basline SSE 17297.85\n",
      "Basline MSE 47.39\n",
      "Basline RMSE 6.88\n"
     ]
    }
   ],
   "source": [
    "print(\"Baseline Metrics\")\n",
    "print(f\"Basline SSE {baseline_sse:.2f}\")\n",
    "print(f\"Basline MSE {baseline_mse:.2f}\")\n",
    "print(f\"Basline RMSE {baseline_rmse:.2f}\")"
   ]
  },
  {
   "cell_type": "code",
   "execution_count": 198,
   "metadata": {},
   "outputs": [
    {
     "data": {
      "image/png": "[encoded data removed]",
      "text/plain": [
       "<Figure size 432x288 with 1 Axes>"
      ]
     },
     "metadata": {
      "needs_background": "light"
     },
     "output_type": "display_data"
    }
   ],
   "source": [
    "plot_residuals(evaluations.y, evaluations.model_yhat);"
   ]
  },
  {
   "cell_type": "code",
   "execution_count": 184,
   "metadata": {},
   "outputs": [
    {
     "name": "stdout",
     "output_type": "stream",
     "text": [
      "Model Metrics\n",
      "Model SSE 1096.17\n",
      "Model MSE 3.00\n",
      "Model RMSE 1.73\n"
     ]
    }
   ],
   "source": [
    "print(\"Model Metrics\")\n",
    "print(f\"Model SSE {model_sse:.2f}\")\n",
    "print(f\"Model MSE {model_mse:.2f}\")\n",
    "print(f\"Model RMSE {model_rmse:.2f}\")"
   ]
  },
  {
   "cell_type": "markdown",
   "metadata": {},
   "source": [
    "## OLS Model: Log Flyers Scaled"
   ]
  },
  {
   "cell_type": "code",
   "execution_count": 224,
   "metadata": {},
   "outputs": [],
   "source": [
    "model_2_scaled = ols('Sales ~ flyers_scaled', df_scaled).fit()"
   ]
  },
  {
   "cell_type": "code",
   "execution_count": 225,
   "metadata": {},
   "outputs": [],
   "source": [
    "evaluations = pd.DataFrame({'x':df_scaled.flyers_scaled,\n",
    "                            'y':df_scaled.Sales\n",
    "                           })"
   ]
  },
  {
   "cell_type": "code",
   "execution_count": 226,
   "metadata": {},
   "outputs": [],
   "source": [
    "evaluations['baseline_yhat'] = evaluations.y.mean()\n",
    "evaluations['model_yhat'] = model_2_scaled.predict()"
   ]
  },
  {
   "cell_type": "code",
   "execution_count": 227,
   "metadata": {},
   "outputs": [],
   "source": [
    "evaluations['baseline_residual'] = evaluations.baseline_yhat \\\n",
    "                                   - evaluations.y"
   ]
  },
  {
   "cell_type": "code",
   "execution_count": 228,
   "metadata": {},
   "outputs": [],
   "source": [
    "evaluations['model_residual'] = evaluations.model_yhat \\\n",
    "                                - evaluations.y"
   ]
  },
  {
   "cell_type": "code",
   "execution_count": 229,
   "metadata": {},
   "outputs": [],
   "source": [
    "baseline_mse = mean_squared_error(evaluations.y,\n",
    "                                  evaluations.baseline_yhat)\n",
    "baseline_sse = baseline_mse * len(evaluations.baseline_yhat)\n",
    "baseline_rmse = sqrt(baseline_mse)"
   ]
  },
  {
   "cell_type": "code",
   "execution_count": 230,
   "metadata": {},
   "outputs": [],
   "source": [
    "model_mse = mean_squared_error(evaluations.y,\n",
    "                               evaluations.model_yhat)\n",
    "model_sse = model_mse * len(evaluations.model_yhat)\n",
    "model_rmse = sqrt(model_mse)"
   ]
  },
  {
   "cell_type": "code",
   "execution_count": 231,
   "metadata": {},
   "outputs": [
    {
     "data": {
      "image/png": "[encoded data removed]",
      "text/plain": [
       "<Figure size 432x288 with 1 Axes>"
      ]
     },
     "metadata": {
      "needs_background": "light"
     },
     "output_type": "display_data"
    }
   ],
   "source": [
    "plot_residuals(evaluations.y, evaluations.baseline_yhat);"
   ]
  },
  {
   "cell_type": "code",
   "execution_count": 232,
   "metadata": {},
   "outputs": [
    {
     "name": "stdout",
     "output_type": "stream",
     "text": [
      "Baseline Metrics\n",
      "Basline SSE 17297.85\n",
      "Basline MSE 47.39\n",
      "Basline RMSE 6.88\n"
     ]
    }
   ],
   "source": [
    "print(\"Baseline Metrics\")\n",
    "print(f\"Basline SSE {baseline_sse:.2f}\")\n",
    "print(f\"Basline MSE {baseline_mse:.2f}\")\n",
    "print(f\"Basline RMSE {baseline_rmse:.2f}\")"
   ]
  },
  {
   "cell_type": "code",
   "execution_count": 233,
   "metadata": {},
   "outputs": [
    {
     "data": {
      "image/png": "[encoded data removed]",
      "text/plain": [
       "<Figure size 432x288 with 1 Axes>"
      ]
     },
     "metadata": {
      "needs_background": "light"
     },
     "output_type": "display_data"
    }
   ],
   "source": [
    "plot_residuals(evaluations.y, evaluations.model_yhat);"
   ]
  },
  {
   "cell_type": "code",
   "execution_count": 294,
   "metadata": {},
   "outputs": [],
   "source": [
    "def ols_model_evaluation(data, predictor='', target=''):\n",
    "    '''\n",
    "    \n",
    "    '''\n",
    "    \n",
    "    if predictor == '' or target == '':\n",
    "        print(\"Please enter an attribute and a target variable name\")\n",
    "        return None\n",
    "    \n",
    "    # Initialize an empty dataframe to store:\n",
    "    # x, y, baseline predictions, baseline residuals, model predictions, model residuals\n",
    "    df = pd.DataFrame()\n",
    "    \n",
    "    # Create x and y columns to store attribute values and target values\n",
    "    df['x'] = data[predictor]\n",
    "    df['y'] = data[target]\n",
    "    \n",
    "    # Baseline predictions and baseline residual\n",
    "    df['baseline_yhat'] = df.y.mean()\n",
    "    df['baseline_residual'] = df.baseline_yhat - df.y\n",
    "    \n",
    "    # Create a OLS model object and fit the data\n",
    "    model = ols(f'{target} ~ {predictor}', data).fit()\n",
    "    \n",
    "    # Model predictions and baseline residual\n",
    "    df['model_yhat'] = model.predict()\n",
    "    df['model_residual'] = df.model_yhat - df.y\n",
    "    \n",
    "    ols_metrics(df)"
   ]
  },
  {
   "cell_type": "code",
   "execution_count": 310,
   "metadata": {},
   "outputs": [],
   "source": [
    "def ols_metrics(df):\n",
    "    '''\n",
    "    \n",
    "    '''\n",
    "    # Calculate Baseline MSE, SSE, RMSE\n",
    "    baseline_mse = mean_squared_error(df.y,df.baseline_yhat)\n",
    "    baseline_sse = baseline_mse * len(df.baseline_yhat)\n",
    "    baseline_rmse = sqrt(baseline_mse)\n",
    "    \n",
    "    # Calulate Model MSE, SSE, RMSE\n",
    "    model_mse = mean_squared_error(df.y, df.model_yhat)\n",
    "    model_sse = model_mse * len(df.model_yhat)\n",
    "    model_rmse = sqrt(model_mse)\n",
    "    \n",
    "    print(\"Baseline Metrics\")\n",
    "    print('-' * 15)\n",
    "    print(f\"Basline SSE {baseline_sse:.2f}\")\n",
    "    print(f\"Basline MSE {baseline_mse:.2f}\")\n",
    "    print(f\"Basline RMSE {baseline_rmse:.2f}\")\n",
    "    \n",
    "    print(\"\\nModel Metrics\")\n",
    "    print('-' * 15)\n",
    "    print(f\"Basline SSE {model_sse:.2f}\")\n",
    "    print(f\"Basline MSE {model_mse:.2f}\")\n",
    "    print(f\"Basline RMSE {model_rmse:.2f}\")\n",
    "    \n",
    "    sse_comparison(baseline_sse, model_sse)\n",
    "    \n",
    "    return None\n",
    "        \n",
    "\n",
    "def sse_comparison(baseline_sse, model_sse):\n",
    "    '''\n",
    "    \n",
    "    '''\n",
    "    evaluation = baseline_sse/model_sse\n",
    "    \n",
    "    if evaluation > 1:\n",
    "        print(\"\\nOur model beats the baseline!\")\n",
    "        print(f\"SSE: {model_sse:.2f} < {baseline_sse:.2f}\")\n",
    "        print(f\"Multiple below the baseline: {baseline_sse/model_sse:.2f}\")  # Any significance?\n",
    "        print(\"Let's evaluate the model with a few more tests.\")\n",
    "    else:\n",
    "        print(\"Return back to the workbench. This model does not outperform the baseline.\")"
   ]
  },
  {
   "cell_type": "code",
   "execution_count": 312,
   "metadata": {},
   "outputs": [
    {
     "name": "stdout",
     "output_type": "stream",
     "text": [
      "Baseline Metrics\n",
      "---------------\n",
      "Basline SSE 17297.85\n",
      "Basline MSE 47.39\n",
      "Basline RMSE 6.88\n",
      "\n",
      "Model Metrics\n",
      "---------------\n",
      "Basline SSE 6083.33\n",
      "Basline MSE 16.67\n",
      "Basline RMSE 4.08\n",
      "\n",
      "Our model beats the baseline!\n",
      "SSE: 6083.33 < 17297.85\n",
      "Multiple below the baseline: 2.84\n",
      "Let's evaluate the model with a few more tests.\n"
     ]
    }
   ],
   "source": [
    "ols_model_evaluation(df_lemonade, predictor='Flyers', target='Sales')"
   ]
  }
 ],
 "metadata": {
  "kernelspec": {
   "display_name": "Python 3",
   "language": "python",
   "name": "python3"
  },
  "language_info": {
   "codemirror_mode": {
    "name": "ipython",
    "version": 3
   },
   "file_extension": ".py",
   "mimetype": "text/x-python",
   "name": "python",
   "nbconvert_exporter": "python",
   "pygments_lexer": "ipython3",
   "version": "3.7.6"
  }
 },
 "nbformat": 4,
 "nbformat_minor": 2
}
