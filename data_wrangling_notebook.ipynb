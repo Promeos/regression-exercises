{
 "cells": [
  {
   "cell_type": "markdown",
   "metadata": {},
   "source": [
    "## Data Wrangling\n",
    "---\n",
    "### Data Acquisition and Data Preparation\n",
    "\n",
    "__Learning Objectives__:\n",
    "1. Learn efficient and effective workflow for data acquisition\n",
    ">- Understand why `.py` files and jupyter notebooks are used together in practice.\n",
    ">- How to use `.py` files in data acquisition\n",
    ">- Best practices when going through the data science workflow.\n",
    "1. Practice querying a database using `SQL` and `Pandas`\n",
    "1. Practice cleaning data to use for EDA and Modeling\n",
    "1. Apply and reinforce concepts using these datasets:\n",
    "- `mall_customers`\n",
    "- `employees`\n",
    "- `sakila`\n",
    "- `world`\n",
    "\n",
    "### Data Acquisition Prerequisites\n",
    "---\n",
    "These datasets are in a SQL database. To access them, I'll need a few things.\n",
    "\n",
    "\n",
    "<div class=\"alert alert-block alert-danger\">This is the equivalent of: \"Check for your keys, phone, and wallet BEFORE you leave the house! Before you start acquiring data, know EXACTLY what you need from a database/dataset: Database name, database table, columns, filters for subsets of data, etc. If you don't, you'll waste time. Be effective the FIRST time, planning goes a long way.\"</div>\n",
    "\n",
    "__Tools__:\n",
    "1. jupyter notebook\n",
    "1. SQL GUI\n",
    "1. SQL Programming\n",
    "1. Python Programming\n",
    "1. Pandas Library\n",
    "\n",
    "\n",
    "\n",
    "__Data Acquisition Setup__:\n",
    "1. SQL database access credentials\n",
    "1. The name of the database\n",
    "1. The name of the table inside the database\n",
    "1. The data I need from that table(s)\n",
    "1. The SQL to retrieve that data\n",
    "1. The code to load the data in a local environment\n",
    "1. How to save data from a database in a local environment\n",
    "\n",
    "> Some steps will take longer/short than others, but practice them all.\n",
    "\n",
    "### Data Preparation Prerequisites\n",
    "---\n",
    "These datasets are in a SQL database. To access them, I'll need a few things.\n",
    "\n",
    "\n",
    "<div class=\"alert alert-block alert-danger\">Before you start preparing your data, know EXACTLY what actions you need to take: shaping data, removing nulls, filling missing values, casting datatypes, encoded variables, formatting row/column/value names, etc. If you don't, you'll waste time. Be effective the FIRST time, planning goes a long way.\"</div>\n",
    "\n",
    "__Tools__:\n",
    "1. jupyter notebook\n",
    "1. Python Programming\n",
    "1. Pandas Library\n",
    "\n",
    "__Data Preparation Setup__:\n",
    "1. Necessities\n",
    "> Some steps will take longer/short than others, but practice them all."
   ]
  },
  {
   "cell_type": "code",
   "execution_count": 6,
   "metadata": {},
   "outputs": [],
   "source": [
    "# Import pandas and connect to database with access credentials\n",
    "# to begin data acquisition.\n",
    "import pandas as pd\n",
    "\n",
    "import env\n",
    "from acquire import get_connection"
   ]
  },
  {
   "cell_type": "markdown",
   "metadata": {},
   "source": [
    "# `mall_customers` dataset\n",
    "---\n",
    "- Data Acquisition\n",
    "1. Return __all rows__ from the `customers table` in the `mall_customers` database.\n",
    "    - No specifics, just acquire the data.\n",
    "\n",
    "- Data Preparation\n",
    "\n",
    "### Data Acquisition\n",
    "\n"
   ]
  },
  {
   "cell_type": "markdown",
   "metadata": {},
   "source": [
    "```python\n",
    "# Prebuilt function to connect to a SQL database.\n",
    "\n",
    "# Database with the name `mall_customers` is accessed.\n",
    "connection = get_connection('mall_customers')\n",
    "\n",
    "# Data from the table `customers` table is returned.\n",
    "sql_query = 'select * from customers;'\n",
    "\n",
    "# Use pandas to send the connection with 'order instructions' \n",
    "# to return all data from the `customers` table in the \n",
    "# `mall_customers` database.\n",
    "df_mall_customers = pd.read_sql(sql=sql_query, con=connection)\n",
    "```"
   ]
  },
  {
   "cell_type": "markdown",
   "metadata": {},
   "source": [
    "```python\n",
    "# Sweet. After the data is loaded into your notebook,\n",
    "# SAVE IT To your local environment.\n",
    "\n",
    "# Only run this code once. It will create a CSV file of the\n",
    "# `customers` table in your current working directory.\n",
    "\n",
    "df_mall_customers.to_csv('mall_customers.csv', index=False)\n",
    "```"
   ]
  },
  {
   "cell_type": "code",
   "execution_count": 12,
   "metadata": {},
   "outputs": [],
   "source": [
    "# Load in a local copy of mall_customers data.\n",
    "df_mall_customers = pd.read_csv('mall_customers.csv')"
   ]
  },
  {
   "cell_type": "code",
   "execution_count": 14,
   "metadata": {},
   "outputs": [
    {
     "name": "stdout",
     "output_type": "stream",
     "text": [
      "<class 'pandas.core.frame.DataFrame'>\n",
      "RangeIndex: 200 entries, 0 to 199\n",
      "Data columns (total 5 columns):\n",
      " #   Column          Non-Null Count  Dtype \n",
      "---  ------          --------------  ----- \n",
      " 0   customer_id     200 non-null    int64 \n",
      " 1   gender          200 non-null    object\n",
      " 2   age             200 non-null    int64 \n",
      " 3   annual_income   200 non-null    int64 \n",
      " 4   spending_score  200 non-null    int64 \n",
      "dtypes: int64(4), object(1)\n",
      "memory usage: 7.9+ KB\n"
     ]
    }
   ],
   "source": [
    "df_mall_customers.info()"
   ]
  },
  {
   "cell_type": "markdown",
   "metadata": {},
   "source": [
    "###### Data Acquisition Analysis\n",
    "1. encode gender\n",
    "1. drop customer_id\n",
    "1. define our target variable: spending score\n",
    "\n",
    "### Data Preparation"
   ]
  },
  {
   "cell_type": "code",
   "execution_count": 12,
   "metadata": {},
   "outputs": [],
   "source": []
  },
  {
   "cell_type": "markdown",
   "metadata": {},
   "source": [
    "###### Data Preparation Analysis\n",
    "1. \n",
    "1. \n",
    "1. "
   ]
  },
  {
   "cell_type": "markdown",
   "metadata": {},
   "source": [
    "# `employees` dataset\n",
    "---\n",
    "- Data Acquisition\n",
    "- Data Preparation\n",
    "\n",
    "### Data Acquisition"
   ]
  },
  {
   "cell_type": "code",
   "execution_count": null,
   "metadata": {},
   "outputs": [],
   "source": []
  },
  {
   "cell_type": "markdown",
   "metadata": {},
   "source": [
    "###### Data Acquisition Analysis\n",
    "1. \n",
    "1. \n",
    "1. \n",
    "\n",
    "### Data Preparation"
   ]
  },
  {
   "cell_type": "code",
   "execution_count": null,
   "metadata": {},
   "outputs": [],
   "source": []
  },
  {
   "cell_type": "markdown",
   "metadata": {},
   "source": [
    "###### Data Preparation Analysis\n",
    "1. \n",
    "1. \n",
    "1. "
   ]
  },
  {
   "cell_type": "markdown",
   "metadata": {},
   "source": [
    "# `sakila` dataset\n",
    "---\n",
    "- Data Acquisition\n",
    "- Data Preparation\n",
    "\n",
    "### Data Acquisition"
   ]
  },
  {
   "cell_type": "code",
   "execution_count": null,
   "metadata": {},
   "outputs": [],
   "source": []
  },
  {
   "cell_type": "markdown",
   "metadata": {},
   "source": [
    "###### Data Acquisition Analysis\n",
    "1. \n",
    "1. \n",
    "1. \n",
    "\n",
    "### Data Preparation"
   ]
  },
  {
   "cell_type": "code",
   "execution_count": null,
   "metadata": {},
   "outputs": [],
   "source": []
  },
  {
   "cell_type": "markdown",
   "metadata": {},
   "source": [
    "###### Data Preparation Analysis\n",
    "1. \n",
    "1. \n",
    "1. "
   ]
  },
  {
   "cell_type": "markdown",
   "metadata": {},
   "source": [
    "# `world` dataset\n",
    "---\n",
    "- Data Acquisition\n",
    "- Data Preparation\n",
    "\n",
    "### Data Acquisition"
   ]
  },
  {
   "cell_type": "code",
   "execution_count": null,
   "metadata": {},
   "outputs": [],
   "source": []
  },
  {
   "cell_type": "markdown",
   "metadata": {},
   "source": [
    "###### Data Acquisition Analysis\n",
    "1. \n",
    "1. \n",
    "1. \n",
    "\n",
    "### Data Preparation"
   ]
  },
  {
   "cell_type": "code",
   "execution_count": null,
   "metadata": {},
   "outputs": [],
   "source": []
  },
  {
   "cell_type": "markdown",
   "metadata": {},
   "source": [
    "###### Data Preparation Analysis\n",
    "1. \n",
    "1. \n",
    "1. \n",
    "\n",
    "# Summary TIL, TIP"
   ]
  },
  {
   "cell_type": "code",
   "execution_count": null,
   "metadata": {},
   "outputs": [],
   "source": []
  }
 ],
 "metadata": {
  "kernelspec": {
   "display_name": "Python 3",
   "language": "python",
   "name": "python3"
  },
  "language_info": {
   "codemirror_mode": {
    "name": "ipython",
    "version": 3
   },
   "file_extension": ".py",
   "mimetype": "text/x-python",
   "name": "python",
   "nbconvert_exporter": "python",
   "pygments_lexer": "ipython3",
   "version": "3.7.6"
  }
 },
 "nbformat": 4,
 "nbformat_minor": 4
}
